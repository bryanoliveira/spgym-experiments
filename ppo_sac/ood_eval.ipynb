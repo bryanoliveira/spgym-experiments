{
 "cells": [
  {
   "cell_type": "code",
   "execution_count": 1,
   "metadata": {},
   "outputs": [],
   "source": [
    "%load_ext autoreload\n",
    "%autoreload 2"
   ]
  },
  {
   "cell_type": "code",
   "execution_count": 5,
   "metadata": {},
   "outputs": [],
   "source": [
    "runs = {'ppo': {1: ['20250124_080530-ppo2_w3_image_imagenet1k_p1_508508',\n",
    "   '20250124_080730-ppo2_w3_image_imagenet1k_p1_490414',\n",
    "   '20250124_081006-ppo2_w3_image_imagenet1k_p1_298819',\n",
    "   '20250124_081210-ppo2_w3_image_imagenet1k_p1_361015',\n",
    "   '20250124_081419-ppo2_w3_image_imagenet1k_p1_744961'],\n",
    "  5: ['20250124_081816-ppo2_w3_image_imagenet1k_p5_425571',\n",
    "   '20250124_082531-ppo2_w3_image_imagenet1k_p5_997300',\n",
    "   '20250124_083941-ppo2_w3_image_imagenet1k_p5_261406',\n",
    "   '20250124_084835-ppo2_w3_image_imagenet1k_p5_563956',\n",
    "   '20250124_085806-ppo2_w3_image_imagenet1k_p5_628076'],\n",
    "  10: ['20250124_090718-ppo2_w3_image_imagenet1k_p10_827131',\n",
    "   '20250124_092356-ppo2_w3_image_imagenet1k_p10_45939',\n",
    "   '20250124_093944-ppo2_w3_image_imagenet1k_p10_142867',\n",
    "   '20250124_095619-ppo2_w3_image_imagenet1k_p10_398922',\n",
    "   '20250124_101151-ppo2_w3_image_imagenet1k_p10_411562'],\n",
    "  20: ['20250124_094000-ppo2_w3_image_imagenet1k_p20_498011',\n",
    "   '20250124_095827-ppo2_w3_image_imagenet1k_p20_658315',\n",
    "   '20250124_101638-ppo2_w3_image_imagenet1k_p20_777558',\n",
    "   '20250124_103455-ppo2_w3_image_imagenet1k_p20_346181',\n",
    "   '20250124_105325-ppo2_w3_image_imagenet1k_p20_767088'],\n",
    "  30: ['20250124_134331-ppo2_w3_image_imagenet1k_p30_124467',\n",
    "   '20250124_140151-ppo2_w3_image_imagenet1k_p30_490377',\n",
    "   '20250124_142023-ppo2_w3_image_imagenet1k_p30_792292',\n",
    "   '20250124_143952-ppo2_w3_image_imagenet1k_p30_973586',\n",
    "   '20250124_145914-ppo2_w3_image_imagenet1k_p30_261130'],\n",
    "  50: ['20250124_152304-ppo2_w3_image_imagenet1k_p50_314078',\n",
    "   '20250124_154118-ppo2_w3_image_imagenet1k_p50_532798',\n",
    "   '20250124_155929-ppo2_w3_image_imagenet1k_p50_225377',\n",
    "   '20250124_161715-ppo2_w3_image_imagenet1k_p50_142231',\n",
    "   '20250124_163530-ppo2_w3_image_imagenet1k_p50_755375']},\n",
    " 'ppo_pretrained_same_pool': {1: ['20250127_014329-ppo_senc_w3_image_imagenet1k_p1_592551',\n",
    "   '20250127_014556-ppo_senc_w3_image_imagenet1k_p1_846232',\n",
    "   '20250127_014852-ppo_senc_w3_image_imagenet1k_p1_492728',\n",
    "   '20250127_015136-ppo_senc_w3_image_imagenet1k_p1_926009',\n",
    "   '20250127_015412-ppo_senc_w3_image_imagenet1k_p1_544830'],\n",
    "  5: ['20250127_015649-ppo_senc_w3_image_imagenet1k_p5_283941',\n",
    "   '20250127_020405-ppo_senc_w3_image_imagenet1k_p5_867132',\n",
    "   '20250127_021749-ppo_senc_w3_image_imagenet1k_p5_571298',\n",
    "   '20250127_022645-ppo_senc_w3_image_imagenet1k_p5_680451',\n",
    "   '20250127_023143-ppo_senc_w3_image_imagenet1k_p5_492473'],\n",
    "  10: ['20250127_024351-ppo_senc_w3_image_imagenet1k_p10_596050',\n",
    "   '20250127_025829-ppo_senc_w3_image_imagenet1k_p10_648635',\n",
    "   '20250127_031503-ppo_senc_w3_image_imagenet1k_p10_306194',\n",
    "   '20250127_041531-ppo_senc_w3_image_imagenet1k_p10_529285',\n",
    "   '20250127_051326-ppo_senc_w3_image_imagenet1k_p10_357266'],\n",
    "  20: ['20250127_033233-ppo_senc_w3_image_imagenet1k_p20_589051',\n",
    "   '20250127_043124-ppo_senc_w3_image_imagenet1k_p20_143271',\n",
    "   '20250127_052534-ppo_senc_w3_image_imagenet1k_p20_27020',\n",
    "   '20250127_060640-ppo_senc_w3_image_imagenet1k_p20_378237',\n",
    "   '20250127_064637-ppo_senc_w3_image_imagenet1k_p20_471004'],\n",
    "  30: ['20250127_072941-ppo_senc_w3_image_imagenet1k_p30_866540',\n",
    "   '20250127_081251-ppo_senc_w3_image_imagenet1k_p30_693039',\n",
    "   '20250127_084920-ppo_senc_w3_image_imagenet1k_p30_685998',\n",
    "   '20250127_092752-ppo_senc_w3_image_imagenet1k_p30_651183',\n",
    "   '20250127_095528-ppo_senc_w3_image_imagenet1k_p30_726758'],\n",
    "  50: ['20250127_102437-ppo_senc_w3_image_imagenet1k_p50_482023',\n",
    "   '20250127_105345-ppo_senc_w3_image_imagenet1k_p50_608677',\n",
    "   '20250127_112252-ppo_senc_w3_image_imagenet1k_p50_207852',\n",
    "   '20250127_115159-ppo_senc_w3_image_imagenet1k_p50_474679',\n",
    "   '20250127_122115-ppo_senc_w3_image_imagenet1k_p50_135206']},\n",
    " 'ppo_pretrained_diff_pool': {1: ['20250126_121831-ppo_enc_w3_image_imagenet1k_p1_571425',\n",
    "   '20250126_122058-ppo_enc_w3_image_imagenet1k_p1_302450',\n",
    "   '20250126_122309-ppo_enc_w3_image_imagenet1k_p1_84635',\n",
    "   '20250126_122514-ppo_enc_w3_image_imagenet1k_p1_718146',\n",
    "   '20250126_122746-ppo_enc_w3_image_imagenet1k_p1_367444'],\n",
    "  5: ['20250126_122958-ppo_enc_w3_image_imagenet1k_p5_806009',\n",
    "   '20250126_124702-ppo_enc_w3_image_imagenet1k_p5_993296',\n",
    "   '20250126_130456-ppo_enc_w3_image_imagenet1k_p5_795836',\n",
    "   '20250126_132723-ppo_enc_w3_image_imagenet1k_p5_389024',\n",
    "   '20250126_134059-ppo_enc_w3_image_imagenet1k_p5_360290'],\n",
    "  10: ['20250126_135419-ppo_enc_w3_image_imagenet1k_p10_822717',\n",
    "   '20250126_142942-ppo_enc_w3_image_imagenet1k_p10_909491',\n",
    "   '20250126_145313-ppo_enc_w3_image_imagenet1k_p10_828389',\n",
    "   '20250126_155819-ppo_enc_w3_image_imagenet1k_p10_477134',\n",
    "   '20250126_170922-ppo_enc_w3_image_imagenet1k_p10_102271'],\n",
    "  20: ['20250126_151524-ppo_enc_w3_image_imagenet1k_p20_54239',\n",
    "   '20250126_162616-ppo_enc_w3_image_imagenet1k_p20_121500',\n",
    "   '20250126_174428-ppo_enc_w3_image_imagenet1k_p20_697692',\n",
    "   '20250126_182737-ppo_enc_w3_image_imagenet1k_p20_561878',\n",
    "   '20250126_185514-ppo_enc_w3_image_imagenet1k_p20_419715'],\n",
    "  30: ['20250126_193813-ppo_enc_w3_image_imagenet1k_p30_707968',\n",
    "   '20250126_202116-ppo_enc_w3_image_imagenet1k_p30_76073',\n",
    "   '20250126_210422-ppo_enc_w3_image_imagenet1k_p30_784566',\n",
    "   '20250126_214723-ppo_enc_w3_image_imagenet1k_p30_565364',\n",
    "   '20250126_223025-ppo_enc_w3_image_imagenet1k_p30_877496'],\n",
    "  50: ['20250126_231329-ppo_enc_w3_image_imagenet1k_p50_135086',\n",
    "   '20250126_235631-ppo_enc_w3_image_imagenet1k_p50_670425',\n",
    "   '20250127_003938-ppo_enc_w3_image_imagenet1k_p50_55842',\n",
    "   '20250127_012241-ppo_enc_w3_image_imagenet1k_p50_730232',\n",
    "   '20250127_020957-ppo_enc_w3_image_imagenet1k_p50_647380']},\n",
    " 'sac': {1: ['20241223_093919-train_sac_w3_image_imagenet1k_p1_753840',\n",
    "   '20241223_121106-train_sac_w3_image_imagenet1k_p1_288548',\n",
    "   '20241224_021800-train_sac_w3_image_imagenet1k_p1_449040',\n",
    "   '20250105_100114-train_sac_w3_image_imagenet1k_p1_49426',\n",
    "   '20250105_100506-train_sac_w3_image_imagenet1k_p1_305266'],\n",
    "  5: ['20241223_162637-train_sac_w3_image_imagenet1k_p5_124304',\n",
    "   '20241224_104420-train_sac_w3_image_imagenet1k_p5_20489',\n",
    "   '20241226_010406-train_sac_w3_image_imagenet1k_p5_333069',\n",
    "   '20241226_234506-train_sac_w3_image_imagenet1k_p5_205556',\n",
    "   '20250105_192038-train_sac_w3_image_imagenet1k_p5_404665',\n",
    "   '20250106_104112-train_sac_w3_image_imagenet1k_p5_691017'],\n",
    "  10: ['20241224_223915-train_sac_w3_image_imagenet1k_p10_696143',\n",
    "   '20241225_043327-train_sac_w3_image_imagenet1k_p10_305513',\n",
    "   '20241225_081250-train_sac_w3_image_imagenet1k_p10_355555',\n",
    "   '20250106_213059-train_sac_w3_image_imagenet1k_p10_891729',\n",
    "   '20250108_011629-train_sac_w3_image_imagenet1k_p10_182381'],\n",
    "  20: ['20241223_223420-train_sac_w3_image_imagenet1k_p20_168900',\n",
    "   '20241224_151847-train_sac_w3_image_imagenet1k_p20_128922',\n",
    "   '20241228_022848-train_sac_w3_image_imagenet1k_p20_205303',\n",
    "   '20241228_175923-train_sac_w3_image_imagenet1k_p20_990718',\n",
    "   '20250122_140536-train_sac_w3_image_imagenet1k_p20_601396'],\n",
    "  30: ['20241227_133642-train_sac_w3_image_imagenet1k_p30_961352',\n",
    "   '20241227_221626-train_sac_w3_image_imagenet1k_p30_178001',\n",
    "   '20241228_032430-train_sac_w3_image_imagenet1k_p30_723208',\n",
    "   '20250122_140755-train_sac_w3_image_imagenet1k_p30_128667',\n",
    "   '20250122_192736-train_sac_w3_image_imagenet1k_p30_509785'],\n",
    "  50: ['20241227_154810-train_sac_w3_image_imagenet1k_p50_710130',\n",
    "   '20241228_000654-train_sac_w3_image_imagenet1k_p50_666399',\n",
    "   '20241228_114441-train_sac_w3_image_imagenet1k_p50_378022',\n",
    "   '20250123_035628-train_sac_w3_image_imagenet1k_p50_958915',\n",
    "   '20250123_075913-train_sac_w3_image_imagenet1k_p50_877092']},\n",
    " 'sac_ae': {1: ['20241223_130042-train_sac_rec_w3_image_imagenet1k_p1_927597',\n",
    "   '20241224_060910-train_sac_rec_w3_image_imagenet1k_p1_502350',\n",
    "   '20241226_162505-train_sac_rec_w3_image_imagenet1k_p1_630647',\n",
    "   '20250105_105351-train_sac_rec_w3_image_imagenet1k_p1_76630',\n",
    "   '20250105_114501-train_sac_rec_w3_image_imagenet1k_p1_770044'],\n",
    "  5: ['20241224_154925-train_sac_rec_w3_image_imagenet1k_p5_413766',\n",
    "   '20241226_012408-train_sac_rec_w3_image_imagenet1k_p5_328025',\n",
    "   '20241226_093210-train_sac_rec_w3_image_imagenet1k_p5_617504',\n",
    "   '20250105_214239-train_sac_rec_w3_image_imagenet1k_p5_613460',\n",
    "   '20250106_145646-train_sac_rec_w3_image_imagenet1k_p5_847982'],\n",
    "  10: ['20241227_010549-train_sac_rec_w3_image_imagenet1k_p10_705270',\n",
    "   '20241227_063238-train_sac_rec_w3_image_imagenet1k_p10_342115',\n",
    "   '20241227_095450-train_sac_rec_w3_image_imagenet1k_p10_773536',\n",
    "   '20250107_061720-train_sac_rec_w3_image_imagenet1k_p10_310268',\n",
    "   '20250108_152110-train_sac_rec_w3_image_imagenet1k_p10_729263'],\n",
    "  20: ['20250126_072704-train_sac_rec_w3_image_imagenet1k_p20_318188'],\n",
    "  30: ['20250127_014108-train_sac_rec_w3_image_imagenet1k_p30_566388']},\n",
    " 'sac_vae': {1: ['20241223_133130-train_sac_recv_w3_image_imagenet1k_p1_552857',\n",
    "   '20241224_064159-train_sac_recv_w3_image_imagenet1k_p1_339846',\n",
    "   '20241227_131112-train_sac_recv_w3_image_imagenet1k_p1_706321',\n",
    "   '20250105_112143-train_sac_recv_w3_image_imagenet1k_p1_276683',\n",
    "   '20250105_123640-train_sac_recv_w3_image_imagenet1k_p1_100525'],\n",
    "  5: ['20241224_173146-train_sac_recv_w3_image_imagenet1k_p5_208073',\n",
    "   '20241226_012328-train_sac_recv_w3_image_imagenet1k_p5_170414',\n",
    "   '20241226_103058-train_sac_recv_w3_image_imagenet1k_p5_500708',\n",
    "   '20250106_002105-train_sac_recv_w3_image_imagenet1k_p5_496872',\n",
    "   '20250106_165334-train_sac_recv_w3_image_imagenet1k_p5_47213'],\n",
    "  10: ['20241225_190129-train_sac_recv_w3_image_imagenet1k_p10_371397',\n",
    "   '20241225_202115-train_sac_recv_w3_image_imagenet1k_p10_660291',\n",
    "   '20241226_105853-train_sac_recv_w3_image_imagenet1k_p10_852833',\n",
    "   '20250107_092032-train_sac_recv_w3_image_imagenet1k_p10_999994',\n",
    "   '20250122_184201-train_sac_recv_w3_image_imagenet1k_p10_678926'],\n",
    "  20: ['20250126_084706-train_sac_recv_w3_image_imagenet1k_p20_279667']},\n",
    " 'sac_spr': {1: ['20241222_231848-train_sac_tr_spra_w3_image_imagenet1k_p1_866147',\n",
    "   '20241224_051100-train_sac_tr_spra_w3_image_imagenet1k_p1_484260',\n",
    "   '20241226_183816-train_sac_tr_spra_w3_image_imagenet1k_p1_148750',\n",
    "   '20250105_132546-train_sac_tr_spra_w3_image_imagenet1k_p1_872709',\n",
    "   '20250105_164833-train_sac_tr_spra_w3_image_imagenet1k_p1_35094'],\n",
    "  5: ['20241226_215913-train_sac_tr_spra_w3_image_imagenet1k_p5_857708',\n",
    "   '20241227_022008-train_sac_tr_spra_w3_image_imagenet1k_p5_160381',\n",
    "   '20241228_115918-train_sac_tr_spra_w3_image_imagenet1k_p5_213012',\n",
    "   '20250106_094846-train_sac_tr_spra_w3_image_imagenet1k_p5_291449',\n",
    "   '20250107_065322-train_sac_tr_spra_w3_image_imagenet1k_p5_915332'],\n",
    "  10: ['20241227_013031-train_sac_tr_spra_w3_image_imagenet1k_p10_438031',\n",
    "   '20241227_113924-train_sac_tr_spra_w3_image_imagenet1k_p10_976975',\n",
    "   '20241228_010024-train_sac_tr_spra_w3_image_imagenet1k_p10_75993',\n",
    "   '20250108_113109-train_sac_tr_spra_w3_image_imagenet1k_p10_982608',\n",
    "   '20250109_180017-train_sac_tr_spra_w3_image_imagenet1k_p10_552093']},\n",
    " 'sac_dbc': {1: ['20241223_002648-train_sac_rew_trp_dbc_w3_image_imagenet1k_p1_646032',\n",
    "   '20241223_151812-train_sac_rew_trp_dbc_w3_image_imagenet1k_p1_557506',\n",
    "   '20241224_085719-train_sac_rew_trp_dbc_w3_image_imagenet1k_p1_517834',\n",
    "   '20250105_130454-train_sac_rew_trp_dbc_w3_image_imagenet1k_p1_69661',\n",
    "   '20250105_160340-train_sac_rew_trp_dbc_w3_image_imagenet1k_p1_883882'],\n",
    "  5: ['20241225_054914-train_sac_rew_trp_dbc_w3_image_imagenet1k_p5_442615',\n",
    "   '20241226_083414-train_sac_rew_trp_dbc_w3_image_imagenet1k_p5_661863',\n",
    "   '20241226_154654-train_sac_rew_trp_dbc_w3_image_imagenet1k_p5_986123',\n",
    "   '20250106_080533-train_sac_rew_trp_dbc_w3_image_imagenet1k_p5_328809',\n",
    "   '20250107_052200-train_sac_rew_trp_dbc_w3_image_imagenet1k_p5_97298'],\n",
    "  10: ['20241226_005445-train_sac_rew_trp_dbc_w3_image_imagenet1k_p10_876756',\n",
    "   '20241226_032800-train_sac_rew_trp_dbc_w3_image_imagenet1k_p10_453916',\n",
    "   '20241226_103039-train_sac_rew_trp_dbc_w3_image_imagenet1k_p10_44465',\n",
    "   '20250108_040217-train_sac_rew_trp_dbc_w3_image_imagenet1k_p10_662917',\n",
    "   '20250109_102133-train_sac_rew_trp_dbc_w3_image_imagenet1k_p10_323837']},\n",
    " 'sac_curl': {1: ['20241224_030529-train_sac_curla_w3_image_imagenet1k_p1_97082',\n",
    "   '20241224_200946-train_sac_curla_w3_image_imagenet1k_p1_161419',\n",
    "   '20241226_142812-train_sac_curla_w3_image_imagenet1k_p1_933102',\n",
    "   '20250105_122949-train_sac_curla_w3_image_imagenet1k_p1_744582',\n",
    "   '20250105_144410-train_sac_curla_w3_image_imagenet1k_p1_256644'],\n",
    "  5: ['20241224_154939-train_sac_curla_w3_image_imagenet1k_p5_379213',\n",
    "   '20241225_125519-train_sac_curla_w3_image_imagenet1k_p5_499554',\n",
    "   '20241226_153749-train_sac_curla_w3_image_imagenet1k_p5_60571',\n",
    "   '20250106_060929-train_sac_curla_w3_image_imagenet1k_p5_763929',\n",
    "   '20250107_020435-train_sac_curla_w3_image_imagenet1k_p5_456743'],\n",
    "  10: ['20241224_201047-train_sac_curla_w3_image_imagenet1k_p10_378807',\n",
    "   '20241225_005555-train_sac_curla_w3_image_imagenet1k_p10_518336',\n",
    "   '20241226_200105-train_sac_curla_w3_image_imagenet1k_p10_969718',\n",
    "   '20250107_183811-train_sac_curla_w3_image_imagenet1k_p10_70888',\n",
    "   '20250109_065105-train_sac_curla_w3_image_imagenet1k_p10_672686'],\n",
    "  20: ['20241224_030632-train_sac_curla_w3_image_imagenet1k_p20_335862']},\n",
    " 'sac_rad': {1: ['20241224_043457-train_saca_w3_image_imagenet1k_p1_277639',\n",
    "   '20241224_211942-train_saca_w3_image_imagenet1k_p1_136194',\n",
    "   '20241227_054812-train_saca_w3_image_imagenet1k_p1_318303',\n",
    "   '20250105_125542-train_saca_w3_image_imagenet1k_p1_205975',\n",
    "   '20250105_154642-train_saca_w3_image_imagenet1k_p1_35896'],\n",
    "  5: ['20241224_021055-train_saca_w3_image_imagenet1k_p5_762011',\n",
    "   '20241224_202101-train_saca_w3_image_imagenet1k_p5_337460',\n",
    "   '20241227_033327-train_saca_w3_image_imagenet1k_p5_313429',\n",
    "   '20250106_075018-train_saca_w3_image_imagenet1k_p5_999453',\n",
    "   '20250107_045154-train_saca_w3_image_imagenet1k_p5_449648'],\n",
    "  10: ['20241225_024211-train_saca_w3_image_imagenet1k_p10_353675',\n",
    "   '20241225_111722-train_saca_w3_image_imagenet1k_p10_699238',\n",
    "   '20241226_103924-train_saca_w3_image_imagenet1k_p10_517717',\n",
    "   '20250108_022511-train_saca_w3_image_imagenet1k_p10_973264',\n",
    "   '20250109_094047-train_saca_w3_image_imagenet1k_p10_351053',\n",
    "   '20250122_122228-train_saca_w3_image_imagenet1k_p10_2109'],\n",
    "  20: ['20250105_095757-train_saca_w3_image_imagenet1k_p20_412291',\n",
    "   '20250106_145506-train_saca_w3_image_imagenet1k_p20_935642',\n",
    "   '20250107_200946-train_saca_w3_image_imagenet1k_p20_403877',\n",
    "   '20250126_072601-train_saca_w3_image_imagenet1k_p20_547994'],\n",
    "  50: ['20250105_195119-train_saca_w3_image_imagenet1k_p50_202324',\n",
    "   '20250107_010714-train_saca_w3_image_imagenet1k_p50_853922',\n",
    "   '20250108_054310-train_saca_w3_image_imagenet1k_p50_790050'],\n",
    "  100: ['20250106_051501-train_saca_w3_image_imagenet1k_p100_888907',\n",
    "   '20250107_104616-train_saca_w3_image_imagenet1k_p100_571635',\n",
    "   '20250108_153854-train_saca_w3_image_imagenet1k_p100_824343']},\n",
    " 'sac_baseline': {1: ['20241223_122558-train_sac_rew_tr_w3_image_imagenet1k_p1_244641',\n",
    "   '20241224_024146-train_sac_rew_tr_w3_image_imagenet1k_p1_534249',\n",
    "   '20241226_212039-train_sac_rew_tr_w3_image_imagenet1k_p1_332820',\n",
    "   '20250105_102409-train_sac_rew_tr_w3_image_imagenet1k_p1_672443',\n",
    "   '20250105_103451-train_sac_rew_tr_w3_image_imagenet1k_p1_843083'],\n",
    "  5: ['20241224_121206-train_sac_rew_tr_w3_image_imagenet1k_p5_650720',\n",
    "   '20241226_031257-train_sac_rew_tr_w3_image_imagenet1k_p5_556028',\n",
    "   '20241226_164738-train_sac_rew_tr_w3_image_imagenet1k_p5_520804',\n",
    "   '20250105_200851-train_sac_rew_tr_w3_image_imagenet1k_p5_726122',\n",
    "   '20250106_114535-train_sac_rew_tr_w3_image_imagenet1k_p5_696518'],\n",
    "  10: ['20241225_020152-train_sac_rew_tr_w3_image_imagenet1k_p10_39648',\n",
    "   '20241225_074149-train_sac_rew_tr_w3_image_imagenet1k_p10_164702',\n",
    "   '20241225_105232-train_sac_rew_tr_w3_image_imagenet1k_p10_682655',\n",
    "   '20250106_225900-train_sac_rew_tr_w3_image_imagenet1k_p10_562892',\n",
    "   '20250108_031153-train_sac_rew_tr_w3_image_imagenet1k_p10_836691'],\n",
    "  20: ['20241224_093812-train_sac_rew_tr_w3_image_imagenet1k_p20_125861']}}"
   ]
  },
  {
   "cell_type": "code",
   "execution_count": 3,
   "metadata": {},
   "outputs": [
    {
     "name": "stderr",
     "output_type": "stream",
     "text": [
      "2025-01-27 18:04:04.909956: I tensorflow/core/platform/cpu_feature_guard.cc:193] This TensorFlow binary is optimized with oneAPI Deep Neural Network Library (oneDNN) to use the following CPU instructions in performance-critical operations:  AVX2 FMA\n",
      "To enable them in other operations, rebuild TensorFlow with the appropriate compiler flags.\n",
      "2025-01-27 18:04:04.993053: W tensorflow/compiler/xla/stream_executor/platform/default/dso_loader.cc:64] Could not load dynamic library 'libcudart.so.11.0'; dlerror: libcudart.so.11.0: cannot open shared object file: No such file or directory; LD_LIBRARY_PATH: :/usr/lib/nvidia\n",
      "2025-01-27 18:04:04.993074: I tensorflow/compiler/xla/stream_executor/cuda/cudart_stub.cc:29] Ignore above cudart dlerror if you do not have a GPU set up on your machine.\n",
      "2025-01-27 18:04:05.572804: W tensorflow/compiler/xla/stream_executor/platform/default/dso_loader.cc:64] Could not load dynamic library 'libnvinfer.so.7'; dlerror: libnvinfer.so.7: cannot open shared object file: No such file or directory; LD_LIBRARY_PATH: :/usr/lib/nvidia\n",
      "2025-01-27 18:04:05.572893: W tensorflow/compiler/xla/stream_executor/platform/default/dso_loader.cc:64] Could not load dynamic library 'libnvinfer_plugin.so.7'; dlerror: libnvinfer_plugin.so.7: cannot open shared object file: No such file or directory; LD_LIBRARY_PATH: :/usr/lib/nvidia\n",
      "2025-01-27 18:04:05.572901: W tensorflow/compiler/tf2tensorrt/utils/py_utils.cc:38] TF-TRT Warning: Cannot dlopen some TensorRT libraries. If you would like to use Nvidia GPU with TensorRT, please make sure the missing libraries mentioned above are installed properly.\n"
     ]
    }
   ],
   "source": [
    "import random\n",
    "import os\n",
    "\n",
    "import gymnasium as gym\n",
    "import numpy as np\n",
    "import pickle\n",
    "import torch\n",
    "import yaml\n",
    "\n",
    "import sliding_puzzles\n",
    "import utils as u\n",
    "import environments as e\n",
    "from algorithms import SACDiscrete\n",
    "from ppo2 import Agent as PPO\n",
    "\n",
    "num_eval_envs = 100\n",
    "device = \"cuda\""
   ]
  },
  {
   "cell_type": "code",
   "execution_count": 4,
   "metadata": {},
   "outputs": [],
   "source": [
    "class Args:\n",
    "    def __init__(self, config):\n",
    "        for k, v in config.items():\n",
    "            setattr(self, k, v)\n",
    "\n",
    "def load_run(run_name, envs):\n",
    "    args = Args(yaml.load(open(run_name + \"/config.yaml\", \"r\"), Loader=yaml.FullLoader))\n",
    "    last_checkpoint = max([int(x.split(\"_\")[1].split(\".\")[0]) for x in os.listdir(run_name) if x.startswith(\"checkpoint_\")])\n",
    "    path = f\"{run_name}/checkpoint_{last_checkpoint}.pth\"\n",
    "    print(\"Loading checkpoint from\", path)\n",
    "    checkpoint = torch.load(path, map_location=device)\n",
    "    if \"sac\" in run_name.lower():\n",
    "        agent = SACDiscrete(envs, args, None, device, print_nets=False)\n",
    "        agent.load_state_dict(checkpoint[\"agent\"])\n",
    "        return agent.actor\n",
    "    elif \"ppo\" in run_name.lower():\n",
    "        agent = PPO(envs, args.env_id, args.hidden_size, args.hidden_layers, args.min_res)\n",
    "        agent.load_state_dict(checkpoint[\"agent\"])\n",
    "        return agent\n",
    "    else:\n",
    "        raise ValueError(f\"Unknown algorithm: {run_name}\")"
   ]
  },
  {
   "cell_type": "code",
   "execution_count": 6,
   "metadata": {},
   "outputs": [
    {
     "name": "stdout",
     "output_type": "stream",
     "text": [
      "<ChannelFirstImageWrapper<RecordEpisodeStatistics<OrderEnforcing<PassiveEnvChecker<ImageFolderWrapper<SlidingEnv<SlidingPuzzles-v0>>>>>>>\n",
      "Observation Space Box(0, 255, (3, 84, 84), uint8)\n",
      "Action Space Discrete(4)\n"
     ]
    }
   ],
   "source": [
    "env_make_list = []\n",
    "for i in range(num_eval_envs):\n",
    "    # each environment has its unique image\n",
    "    ood_seed = random.randint(0, 2147483647)\n",
    "    ood_env_configs = {\"seed\": ood_seed, \"image_pool_seed\": ood_seed, \"variation\": \"image\", \"image_folder\": \"imagenet-1k\", \"image_size\": 84, \"w\": 3, \"image_pool_size\": 1}\n",
    "    env_make_list.append(e.make(\"SlidingPuzzles-v0\", i, False, \"\", ood_env_configs))\n",
    "envs = gym.vector.SyncVectorEnv(env_make_list)"
   ]
  },
  {
   "cell_type": "code",
   "execution_count": 10,
   "metadata": {},
   "outputs": [
    {
     "name": "stdout",
     "output_type": "stream",
     "text": [
      "runs/20241223_093919-train_sac_w3_image_imagenet1k_p1_753840\n",
      "runs_sac/20241223_093919-train_sac_w3_image_imagenet1k_p1_753840\n",
      "Loading checkpoint from runs_sac/20241223_093919-train_sac_w3_image_imagenet1k_p1_753840/checkpoint_390080.pth\n"
     ]
    },
    {
     "name": "stderr",
     "output_type": "stream",
     "text": [
      "/tmp/ipykernel_3479981/2693507873.py:11: FutureWarning: You are using `torch.load` with `weights_only=False` (the current default value), which uses the default pickle module implicitly. It is possible to construct malicious pickle data which will execute arbitrary code during unpickling (See https://github.com/pytorch/pytorch/blob/main/SECURITY.md#untrusted-models for more details). In a future release, the default value for `weights_only` will be flipped to `True`. This limits the functions that could be executed during unpickling. Arbitrary objects will no longer be allowed to be loaded via this mode unless they are explicitly allowlisted by the user via `torch.serialization.add_safe_globals`. We recommend you start setting `weights_only=True` for any use case where you don't have full control of the loaded file. Please open an issue on GitHub for any issues related to this experimental feature.\n",
      "  checkpoint = torch.load(path, map_location=device)\n",
      "Eval steps: 100%|██████████| 1000/1000 [00:22<00:00, 45.04it/s, r=-719.57, s=0.00]\n"
     ]
    },
    {
     "name": "stdout",
     "output_type": "stream",
     "text": [
      "runs/20241223_121106-train_sac_w3_image_imagenet1k_p1_288548\n",
      "runs_sac/20241223_121106-train_sac_w3_image_imagenet1k_p1_288548\n",
      "Loading checkpoint from runs_sac/20241223_121106-train_sac_w3_image_imagenet1k_p1_288548/checkpoint_426176.pth\n"
     ]
    },
    {
     "name": "stderr",
     "output_type": "stream",
     "text": [
      "Eval steps: 100%|██████████| 1000/1000 [00:21<00:00, 45.81it/s, r=-723.13, s=0.00]\n"
     ]
    },
    {
     "name": "stdout",
     "output_type": "stream",
     "text": [
      "runs/20241224_021800-train_sac_w3_image_imagenet1k_p1_449040\n",
      "runs_sac/20241224_021800-train_sac_w3_image_imagenet1k_p1_449040\n",
      "Loading checkpoint from runs_sac/20241224_021800-train_sac_w3_image_imagenet1k_p1_449040/checkpoint_420416.pth\n"
     ]
    },
    {
     "name": "stderr",
     "output_type": "stream",
     "text": [
      "Eval steps: 100%|██████████| 1000/1000 [00:22<00:00, 44.22it/s, r=-700.13, s=0.00]\n"
     ]
    },
    {
     "name": "stdout",
     "output_type": "stream",
     "text": [
      "runs/20250105_100114-train_sac_w3_image_imagenet1k_p1_49426\n",
      "runs_sac/20250105_100114-train_sac_w3_image_imagenet1k_p1_49426\n",
      "Loading checkpoint from runs_sac/20250105_100114-train_sac_w3_image_imagenet1k_p1_49426/checkpoint_623680.pth\n"
     ]
    },
    {
     "name": "stderr",
     "output_type": "stream",
     "text": [
      "Eval steps: 100%|██████████| 1000/1000 [00:22<00:00, 44.07it/s, r=-641.08, s=0.00]\n"
     ]
    },
    {
     "name": "stdout",
     "output_type": "stream",
     "text": [
      "runs/20250105_100506-train_sac_w3_image_imagenet1k_p1_305266\n",
      "Loading checkpoint from runs/20250105_100506-train_sac_w3_image_imagenet1k_p1_305266/checkpoint_566336.pth\n"
     ]
    },
    {
     "name": "stderr",
     "output_type": "stream",
     "text": [
      "Eval steps: 100%|██████████| 1000/1000 [00:22<00:00, 44.18it/s, r=-589.04, s=0.00]\n"
     ]
    },
    {
     "name": "stdout",
     "output_type": "stream",
     "text": [
      "runs/20241223_162637-train_sac_w3_image_imagenet1k_p5_124304\n",
      "runs_sac/20241223_162637-train_sac_w3_image_imagenet1k_p5_124304\n",
      "Loading checkpoint from runs_sac/20241223_162637-train_sac_w3_image_imagenet1k_p5_124304/checkpoint_1168896.pth\n"
     ]
    },
    {
     "name": "stderr",
     "output_type": "stream",
     "text": [
      "Eval steps: 100%|██████████| 1000/1000 [00:23<00:00, 43.45it/s, r=-595.84, s=0.00]\n"
     ]
    },
    {
     "name": "stdout",
     "output_type": "stream",
     "text": [
      "runs/20241224_104420-train_sac_w3_image_imagenet1k_p5_20489\n",
      "runs_sac/20241224_104420-train_sac_w3_image_imagenet1k_p5_20489\n",
      "Loading checkpoint from runs_sac/20241224_104420-train_sac_w3_image_imagenet1k_p5_20489/checkpoint_1631296.pth\n"
     ]
    },
    {
     "name": "stderr",
     "output_type": "stream",
     "text": [
      "Eval steps: 100%|██████████| 1000/1000 [00:23<00:00, 42.48it/s, r=-557.58, s=0.00]\n"
     ]
    },
    {
     "name": "stdout",
     "output_type": "stream",
     "text": [
      "runs/20241226_010406-train_sac_w3_image_imagenet1k_p5_333069\n",
      "runs_sac/20241226_010406-train_sac_w3_image_imagenet1k_p5_333069\n",
      "Loading checkpoint from runs_sac/20241226_010406-train_sac_w3_image_imagenet1k_p5_333069/checkpoint_1572608.pth\n"
     ]
    },
    {
     "name": "stderr",
     "output_type": "stream",
     "text": [
      "Eval steps: 100%|██████████| 1000/1000 [00:23<00:00, 42.40it/s, r=-553.07, s=0.00]\n"
     ]
    },
    {
     "name": "stdout",
     "output_type": "stream",
     "text": [
      "runs/20241226_234506-train_sac_w3_image_imagenet1k_p5_205556\n",
      "runs_sac/20241226_234506-train_sac_w3_image_imagenet1k_p5_205556\n",
      "Loading checkpoint from runs_sac/20241226_234506-train_sac_w3_image_imagenet1k_p5_205556/checkpoint_1346432.pth\n"
     ]
    },
    {
     "name": "stderr",
     "output_type": "stream",
     "text": [
      "Eval steps: 100%|██████████| 1000/1000 [00:24<00:00, 41.60it/s, r=-523.38, s=0.00]\n"
     ]
    },
    {
     "name": "stdout",
     "output_type": "stream",
     "text": [
      "runs/20250105_192038-train_sac_w3_image_imagenet1k_p5_404665\n",
      "Loading checkpoint from runs/20250105_192038-train_sac_w3_image_imagenet1k_p5_404665/checkpoint_1429440.pth\n"
     ]
    },
    {
     "name": "stderr",
     "output_type": "stream",
     "text": [
      "Eval steps: 100%|██████████| 1000/1000 [00:23<00:00, 43.15it/s, r=-586.26, s=0.00]\n"
     ]
    },
    {
     "name": "stdout",
     "output_type": "stream",
     "text": [
      "runs/20250106_104112-train_sac_w3_image_imagenet1k_p5_691017\n",
      "runs_sac/20250106_104112-train_sac_w3_image_imagenet1k_p5_691017\n",
      "Loading checkpoint from runs_sac/20250106_104112-train_sac_w3_image_imagenet1k_p5_691017/checkpoint_1125888.pth\n"
     ]
    },
    {
     "name": "stderr",
     "output_type": "stream",
     "text": [
      "Eval steps: 100%|██████████| 1000/1000 [00:23<00:00, 42.90it/s, r=-581.83, s=0.00]\n"
     ]
    },
    {
     "name": "stdout",
     "output_type": "stream",
     "text": [
      "runs/20241224_223915-train_sac_w3_image_imagenet1k_p10_696143\n",
      "runs_sac/20241224_223915-train_sac_w3_image_imagenet1k_p10_696143\n",
      "Loading checkpoint from runs_sac/20241224_223915-train_sac_w3_image_imagenet1k_p10_696143/checkpoint_3471488.pth\n"
     ]
    },
    {
     "name": "stderr",
     "output_type": "stream",
     "text": [
      "Eval steps: 100%|██████████| 1000/1000 [00:23<00:00, 42.35it/s, r=-533.65, s=0.00]\n"
     ]
    },
    {
     "name": "stdout",
     "output_type": "stream",
     "text": [
      "runs/20241225_043327-train_sac_w3_image_imagenet1k_p10_305513\n",
      "runs_sac/20241225_043327-train_sac_w3_image_imagenet1k_p10_305513\n",
      "Loading checkpoint from runs_sac/20241225_043327-train_sac_w3_image_imagenet1k_p10_305513/checkpoint_2327232.pth\n"
     ]
    },
    {
     "name": "stderr",
     "output_type": "stream",
     "text": [
      "Eval steps: 100%|██████████| 1000/1000 [00:23<00:00, 41.85it/s, r=-519.49, s=0.00]\n"
     ]
    },
    {
     "name": "stdout",
     "output_type": "stream",
     "text": [
      "runs/20241225_081250-train_sac_w3_image_imagenet1k_p10_355555\n",
      "runs_sac/20241225_081250-train_sac_w3_image_imagenet1k_p10_355555\n",
      "Loading checkpoint from runs_sac/20241225_081250-train_sac_w3_image_imagenet1k_p10_355555/checkpoint_2793088.pth\n"
     ]
    },
    {
     "name": "stderr",
     "output_type": "stream",
     "text": [
      "Eval steps: 100%|██████████| 1000/1000 [00:23<00:00, 42.43it/s, r=-528.76, s=0.00]\n"
     ]
    },
    {
     "name": "stdout",
     "output_type": "stream",
     "text": [
      "runs/20250106_213059-train_sac_w3_image_imagenet1k_p10_891729\n",
      "Loading checkpoint from runs/20250106_213059-train_sac_w3_image_imagenet1k_p10_891729/checkpoint_2599936.pth\n"
     ]
    },
    {
     "name": "stderr",
     "output_type": "stream",
     "text": [
      "Eval steps: 100%|██████████| 1000/1000 [00:23<00:00, 42.67it/s, r=-514.21, s=0.00]\n"
     ]
    },
    {
     "name": "stdout",
     "output_type": "stream",
     "text": [
      "runs/20250108_011629-train_sac_w3_image_imagenet1k_p10_182381\n",
      "runs_sac/20250108_011629-train_sac_w3_image_imagenet1k_p10_182381\n",
      "Loading checkpoint from runs_sac/20250108_011629-train_sac_w3_image_imagenet1k_p10_182381/checkpoint_2104896.pth\n"
     ]
    },
    {
     "name": "stderr",
     "output_type": "stream",
     "text": [
      "Eval steps: 100%|██████████| 1000/1000 [00:23<00:00, 43.13it/s, r=-532.45, s=0.00]\n"
     ]
    },
    {
     "name": "stdout",
     "output_type": "stream",
     "text": [
      "runs/20241223_223420-train_sac_w3_image_imagenet1k_p20_168900\n",
      "runs_sac/20241223_223420-train_sac_w3_image_imagenet1k_p20_168900\n",
      "Loading checkpoint from runs_sac/20241223_223420-train_sac_w3_image_imagenet1k_p20_168900/checkpoint_9000000.pth\n"
     ]
    },
    {
     "name": "stderr",
     "output_type": "stream",
     "text": [
      "Eval steps: 100%|██████████| 1000/1000 [00:23<00:00, 42.22it/s, r=-536.22, s=0.00]\n"
     ]
    },
    {
     "name": "stdout",
     "output_type": "stream",
     "text": [
      "runs/20241224_151847-train_sac_w3_image_imagenet1k_p20_128922\n",
      "runs_sac/20241224_151847-train_sac_w3_image_imagenet1k_p20_128922\n",
      "Loading checkpoint from runs_sac/20241224_151847-train_sac_w3_image_imagenet1k_p20_128922/checkpoint_7557056.pth\n"
     ]
    },
    {
     "name": "stderr",
     "output_type": "stream",
     "text": [
      "Eval steps: 100%|██████████| 1000/1000 [00:24<00:00, 41.49it/s, r=-522.90, s=0.00]\n"
     ]
    },
    {
     "name": "stdout",
     "output_type": "stream",
     "text": [
      "runs/20241228_022848-train_sac_w3_image_imagenet1k_p20_205303\n",
      "runs_sac/20241228_022848-train_sac_w3_image_imagenet1k_p20_205303\n",
      "Loading checkpoint from runs_sac/20241228_022848-train_sac_w3_image_imagenet1k_p20_205303/checkpoint_4850432.pth\n"
     ]
    },
    {
     "name": "stderr",
     "output_type": "stream",
     "text": [
      "Eval steps: 100%|██████████| 1000/1000 [00:23<00:00, 41.95it/s, r=-512.65, s=0.00]\n"
     ]
    },
    {
     "name": "stdout",
     "output_type": "stream",
     "text": [
      "runs/20241228_175923-train_sac_w3_image_imagenet1k_p20_990718\n",
      "runs_sac/20241228_175923-train_sac_w3_image_imagenet1k_p20_990718\n",
      "Loading checkpoint from runs_sac/20241228_175923-train_sac_w3_image_imagenet1k_p20_990718/checkpoint_10000000.pth\n"
     ]
    },
    {
     "name": "stderr",
     "output_type": "stream",
     "text": [
      "Eval steps: 100%|██████████| 1000/1000 [00:23<00:00, 42.77it/s, r=-541.42, s=0.00]\n"
     ]
    },
    {
     "name": "stdout",
     "output_type": "stream",
     "text": [
      "runs/20250122_140536-train_sac_w3_image_imagenet1k_p20_601396\n",
      "Loading checkpoint from runs/20250122_140536-train_sac_w3_image_imagenet1k_p20_601396/checkpoint_9193856.pth\n"
     ]
    },
    {
     "name": "stderr",
     "output_type": "stream",
     "text": [
      "Eval steps: 100%|██████████| 1000/1000 [00:23<00:00, 43.02it/s, r=-502.59, s=0.00]\n"
     ]
    },
    {
     "name": "stdout",
     "output_type": "stream",
     "text": [
      "runs/20241227_133642-train_sac_w3_image_imagenet1k_p30_961352\n",
      "runs_sac/20241227_133642-train_sac_w3_image_imagenet1k_p30_961352\n",
      "Loading checkpoint from runs_sac/20241227_133642-train_sac_w3_image_imagenet1k_p30_961352/checkpoint_9000000.pth\n"
     ]
    },
    {
     "name": "stderr",
     "output_type": "stream",
     "text": [
      "Eval steps: 100%|██████████| 1000/1000 [00:23<00:00, 42.77it/s, r=-526.11, s=0.00]\n"
     ]
    },
    {
     "name": "stdout",
     "output_type": "stream",
     "text": [
      "runs/20241227_221626-train_sac_w3_image_imagenet1k_p30_178001\n",
      "runs_sac/20241227_221626-train_sac_w3_image_imagenet1k_p30_178001\n",
      "Loading checkpoint from runs_sac/20241227_221626-train_sac_w3_image_imagenet1k_p30_178001/checkpoint_9000000.pth\n"
     ]
    },
    {
     "name": "stderr",
     "output_type": "stream",
     "text": [
      "Eval steps: 100%|██████████| 1000/1000 [00:23<00:00, 41.75it/s, r=-512.09, s=0.00]\n"
     ]
    },
    {
     "name": "stdout",
     "output_type": "stream",
     "text": [
      "runs/20241228_032430-train_sac_w3_image_imagenet1k_p30_723208\n",
      "runs_sac/20241228_032430-train_sac_w3_image_imagenet1k_p30_723208\n",
      "Loading checkpoint from runs_sac/20241228_032430-train_sac_w3_image_imagenet1k_p30_723208/checkpoint_9000000.pth\n"
     ]
    },
    {
     "name": "stderr",
     "output_type": "stream",
     "text": [
      "Eval steps: 100%|██████████| 1000/1000 [00:23<00:00, 42.67it/s, r=-519.14, s=0.00]\n"
     ]
    },
    {
     "name": "stdout",
     "output_type": "stream",
     "text": [
      "runs/20250122_140755-train_sac_w3_image_imagenet1k_p30_128667\n",
      "Loading checkpoint from runs/20250122_140755-train_sac_w3_image_imagenet1k_p30_128667/checkpoint_10000000.pth\n"
     ]
    },
    {
     "name": "stderr",
     "output_type": "stream",
     "text": [
      "Eval steps: 100%|██████████| 1000/1000 [00:23<00:00, 42.45it/s, r=-495.28, s=0.00]\n"
     ]
    },
    {
     "name": "stdout",
     "output_type": "stream",
     "text": [
      "runs/20250122_192736-train_sac_w3_image_imagenet1k_p30_509785\n",
      "Loading checkpoint from runs/20250122_192736-train_sac_w3_image_imagenet1k_p30_509785/checkpoint_10000000.pth\n"
     ]
    },
    {
     "name": "stderr",
     "output_type": "stream",
     "text": [
      "Eval steps: 100%|██████████| 1000/1000 [00:24<00:00, 40.38it/s, r=-507.46, s=0.00]\n"
     ]
    },
    {
     "name": "stdout",
     "output_type": "stream",
     "text": [
      "runs/20241227_154810-train_sac_w3_image_imagenet1k_p50_710130\n",
      "runs_sac/20241227_154810-train_sac_w3_image_imagenet1k_p50_710130\n",
      "Loading checkpoint from runs_sac/20241227_154810-train_sac_w3_image_imagenet1k_p50_710130/checkpoint_9000000.pth\n"
     ]
    },
    {
     "name": "stderr",
     "output_type": "stream",
     "text": [
      "Eval steps: 100%|██████████| 1000/1000 [00:23<00:00, 42.48it/s, r=-516.91, s=0.00]\n"
     ]
    },
    {
     "name": "stdout",
     "output_type": "stream",
     "text": [
      "runs/20241228_000654-train_sac_w3_image_imagenet1k_p50_666399\n",
      "runs_sac/20241228_000654-train_sac_w3_image_imagenet1k_p50_666399\n",
      "Loading checkpoint from runs_sac/20241228_000654-train_sac_w3_image_imagenet1k_p50_666399/checkpoint_9000000.pth\n"
     ]
    },
    {
     "name": "stderr",
     "output_type": "stream",
     "text": [
      "Eval steps: 100%|██████████| 1000/1000 [00:23<00:00, 42.12it/s, r=-494.93, s=0.00]\n"
     ]
    },
    {
     "name": "stdout",
     "output_type": "stream",
     "text": [
      "runs/20241228_114441-train_sac_w3_image_imagenet1k_p50_378022\n",
      "runs_sac/20241228_114441-train_sac_w3_image_imagenet1k_p50_378022\n",
      "Loading checkpoint from runs_sac/20241228_114441-train_sac_w3_image_imagenet1k_p50_378022/checkpoint_9000000.pth\n"
     ]
    },
    {
     "name": "stderr",
     "output_type": "stream",
     "text": [
      "Eval steps: 100%|██████████| 1000/1000 [00:24<00:00, 41.23it/s, r=-500.67, s=0.00]\n"
     ]
    },
    {
     "name": "stdout",
     "output_type": "stream",
     "text": [
      "runs/20250123_035628-train_sac_w3_image_imagenet1k_p50_958915\n",
      "Loading checkpoint from runs/20250123_035628-train_sac_w3_image_imagenet1k_p50_958915/checkpoint_10000000.pth\n"
     ]
    },
    {
     "name": "stderr",
     "output_type": "stream",
     "text": [
      "Eval steps: 100%|██████████| 1000/1000 [00:23<00:00, 42.06it/s, r=-496.72, s=0.00]\n"
     ]
    },
    {
     "name": "stdout",
     "output_type": "stream",
     "text": [
      "runs/20250123_075913-train_sac_w3_image_imagenet1k_p50_877092\n",
      "Loading checkpoint from runs/20250123_075913-train_sac_w3_image_imagenet1k_p50_877092/checkpoint_10000000.pth\n"
     ]
    },
    {
     "name": "stderr",
     "output_type": "stream",
     "text": [
      "Eval steps: 100%|██████████| 1000/1000 [00:24<00:00, 41.05it/s, r=-515.18, s=0.00]\n"
     ]
    },
    {
     "name": "stdout",
     "output_type": "stream",
     "text": [
      "runs/20241223_130042-train_sac_rec_w3_image_imagenet1k_p1_927597\n",
      "runs_sac/20241223_130042-train_sac_rec_w3_image_imagenet1k_p1_927597\n",
      "Loading checkpoint from runs_sac/20241223_130042-train_sac_rec_w3_image_imagenet1k_p1_927597/checkpoint_584064.pth\n"
     ]
    },
    {
     "name": "stderr",
     "output_type": "stream",
     "text": [
      "Eval steps: 100%|██████████| 1000/1000 [00:23<00:00, 43.21it/s, r=-594.40, s=0.00]\n"
     ]
    },
    {
     "name": "stdout",
     "output_type": "stream",
     "text": [
      "runs/20241224_060910-train_sac_rec_w3_image_imagenet1k_p1_502350\n",
      "runs_sac/20241224_060910-train_sac_rec_w3_image_imagenet1k_p1_502350\n",
      "Loading checkpoint from runs_sac/20241224_060910-train_sac_rec_w3_image_imagenet1k_p1_502350/checkpoint_405568.pth\n"
     ]
    },
    {
     "name": "stderr",
     "output_type": "stream",
     "text": [
      "Eval steps: 100%|██████████| 1000/1000 [00:23<00:00, 43.17it/s, r=-631.13, s=0.00]\n"
     ]
    },
    {
     "name": "stdout",
     "output_type": "stream",
     "text": [
      "runs/20241226_162505-train_sac_rec_w3_image_imagenet1k_p1_630647\n",
      "runs_sac/20241226_162505-train_sac_rec_w3_image_imagenet1k_p1_630647\n",
      "Loading checkpoint from runs_sac/20241226_162505-train_sac_rec_w3_image_imagenet1k_p1_630647/checkpoint_494784.pth\n"
     ]
    },
    {
     "name": "stderr",
     "output_type": "stream",
     "text": [
      "Eval steps: 100%|██████████| 1000/1000 [00:22<00:00, 43.53it/s, r=-588.88, s=0.00]\n"
     ]
    },
    {
     "name": "stdout",
     "output_type": "stream",
     "text": [
      "runs/20250105_105351-train_sac_rec_w3_image_imagenet1k_p1_76630\n",
      "Loading checkpoint from runs/20250105_105351-train_sac_rec_w3_image_imagenet1k_p1_76630/checkpoint_547456.pth\n"
     ]
    },
    {
     "name": "stderr",
     "output_type": "stream",
     "text": [
      "Eval steps: 100%|██████████| 1000/1000 [00:23<00:00, 43.20it/s, r=-585.11, s=0.00]\n"
     ]
    },
    {
     "name": "stdout",
     "output_type": "stream",
     "text": [
      "runs/20250105_114501-train_sac_rec_w3_image_imagenet1k_p1_770044\n",
      "runs_sac/20250105_114501-train_sac_rec_w3_image_imagenet1k_p1_770044\n",
      "Loading checkpoint from runs_sac/20250105_114501-train_sac_rec_w3_image_imagenet1k_p1_770044/checkpoint_599936.pth\n"
     ]
    },
    {
     "name": "stderr",
     "output_type": "stream",
     "text": [
      "Eval steps: 100%|██████████| 1000/1000 [00:21<00:00, 47.19it/s, r=-788.52, s=0.00]\n"
     ]
    },
    {
     "name": "stdout",
     "output_type": "stream",
     "text": [
      "runs/20241224_154925-train_sac_rec_w3_image_imagenet1k_p5_413766\n",
      "runs_sac/20241224_154925-train_sac_rec_w3_image_imagenet1k_p5_413766\n",
      "Loading checkpoint from runs_sac/20241224_154925-train_sac_rec_w3_image_imagenet1k_p5_413766/checkpoint_1219328.pth\n"
     ]
    },
    {
     "name": "stderr",
     "output_type": "stream",
     "text": [
      "Eval steps: 100%|██████████| 1000/1000 [00:23<00:00, 42.84it/s, r=-551.08, s=0.00]\n"
     ]
    },
    {
     "name": "stdout",
     "output_type": "stream",
     "text": [
      "runs/20241226_012408-train_sac_rec_w3_image_imagenet1k_p5_328025\n",
      "runs_sac/20241226_012408-train_sac_rec_w3_image_imagenet1k_p5_328025\n",
      "Loading checkpoint from runs_sac/20241226_012408-train_sac_rec_w3_image_imagenet1k_p5_328025/checkpoint_1150976.pth\n"
     ]
    },
    {
     "name": "stderr",
     "output_type": "stream",
     "text": [
      "Eval steps: 100%|██████████| 1000/1000 [00:23<00:00, 41.97it/s, r=-525.59, s=0.00]\n"
     ]
    },
    {
     "name": "stdout",
     "output_type": "stream",
     "text": [
      "runs/20241226_093210-train_sac_rec_w3_image_imagenet1k_p5_617504\n",
      "runs_sac/20241226_093210-train_sac_rec_w3_image_imagenet1k_p5_617504\n",
      "Loading checkpoint from runs_sac/20241226_093210-train_sac_rec_w3_image_imagenet1k_p5_617504/checkpoint_1414208.pth\n"
     ]
    },
    {
     "name": "stderr",
     "output_type": "stream",
     "text": [
      "Eval steps: 100%|██████████| 1000/1000 [00:23<00:00, 42.54it/s, r=-536.71, s=0.00]\n"
     ]
    },
    {
     "name": "stdout",
     "output_type": "stream",
     "text": [
      "runs/20250105_214239-train_sac_rec_w3_image_imagenet1k_p5_613460\n",
      "Loading checkpoint from runs/20250105_214239-train_sac_rec_w3_image_imagenet1k_p5_613460/checkpoint_3073216.pth\n"
     ]
    },
    {
     "name": "stderr",
     "output_type": "stream",
     "text": [
      "Eval steps: 100%|██████████| 1000/1000 [00:23<00:00, 43.21it/s, r=-574.59, s=0.00]\n"
     ]
    },
    {
     "name": "stdout",
     "output_type": "stream",
     "text": [
      "runs/20250106_145646-train_sac_rec_w3_image_imagenet1k_p5_847982\n",
      "runs_sac/20250106_145646-train_sac_rec_w3_image_imagenet1k_p5_847982\n",
      "Loading checkpoint from runs_sac/20250106_145646-train_sac_rec_w3_image_imagenet1k_p5_847982/checkpoint_1352960.pth\n"
     ]
    },
    {
     "name": "stderr",
     "output_type": "stream",
     "text": [
      "Eval steps: 100%|██████████| 1000/1000 [00:23<00:00, 42.34it/s, r=-539.38, s=0.00]\n"
     ]
    },
    {
     "name": "stdout",
     "output_type": "stream",
     "text": [
      "runs/20241227_010549-train_sac_rec_w3_image_imagenet1k_p10_705270\n",
      "runs_sac/20241227_010549-train_sac_rec_w3_image_imagenet1k_p10_705270\n",
      "Loading checkpoint from runs_sac/20241227_010549-train_sac_rec_w3_image_imagenet1k_p10_705270/checkpoint_4451520.pth\n"
     ]
    },
    {
     "name": "stderr",
     "output_type": "stream",
     "text": [
      "Eval steps: 100%|██████████| 1000/1000 [00:23<00:00, 42.69it/s, r=-540.71, s=0.00]\n"
     ]
    },
    {
     "name": "stdout",
     "output_type": "stream",
     "text": [
      "runs/20241227_063238-train_sac_rec_w3_image_imagenet1k_p10_342115\n",
      "runs_sac/20241227_063238-train_sac_rec_w3_image_imagenet1k_p10_342115\n",
      "Loading checkpoint from runs_sac/20241227_063238-train_sac_rec_w3_image_imagenet1k_p10_342115/checkpoint_3835904.pth\n"
     ]
    },
    {
     "name": "stderr",
     "output_type": "stream",
     "text": [
      "Eval steps: 100%|██████████| 1000/1000 [00:23<00:00, 42.90it/s, r=-479.21, s=0.07]\n"
     ]
    },
    {
     "name": "stdout",
     "output_type": "stream",
     "text": [
      "runs/20241227_095450-train_sac_rec_w3_image_imagenet1k_p10_773536\n",
      "runs_sac/20241227_095450-train_sac_rec_w3_image_imagenet1k_p10_773536\n",
      "Loading checkpoint from runs_sac/20241227_095450-train_sac_rec_w3_image_imagenet1k_p10_773536/checkpoint_3380416.pth\n"
     ]
    },
    {
     "name": "stderr",
     "output_type": "stream",
     "text": [
      "Eval steps: 100%|██████████| 1000/1000 [00:23<00:00, 41.98it/s, r=-538.44, s=0.00]\n"
     ]
    },
    {
     "name": "stdout",
     "output_type": "stream",
     "text": [
      "runs/20250107_061720-train_sac_rec_w3_image_imagenet1k_p10_310268\n",
      "Loading checkpoint from runs/20250107_061720-train_sac_rec_w3_image_imagenet1k_p10_310268/checkpoint_3473024.pth\n"
     ]
    },
    {
     "name": "stderr",
     "output_type": "stream",
     "text": [
      "Eval steps: 100%|██████████| 1000/1000 [00:23<00:00, 43.03it/s, r=-515.67, s=0.00]\n"
     ]
    },
    {
     "name": "stdout",
     "output_type": "stream",
     "text": [
      "runs/20250108_152110-train_sac_rec_w3_image_imagenet1k_p10_729263\n",
      "runs_sac/20250108_152110-train_sac_rec_w3_image_imagenet1k_p10_729263\n",
      "Loading checkpoint from runs_sac/20250108_152110-train_sac_rec_w3_image_imagenet1k_p10_729263/checkpoint_2426880.pth\n"
     ]
    },
    {
     "name": "stderr",
     "output_type": "stream",
     "text": [
      "Eval steps: 100%|██████████| 1000/1000 [00:24<00:00, 41.00it/s, r=-535.22, s=0.00]\n"
     ]
    },
    {
     "name": "stdout",
     "output_type": "stream",
     "text": [
      "runs/20250126_072704-train_sac_rec_w3_image_imagenet1k_p20_318188\n",
      "Loading checkpoint from runs/20250126_072704-train_sac_rec_w3_image_imagenet1k_p20_318188/checkpoint_10000000.pth\n"
     ]
    },
    {
     "name": "stderr",
     "output_type": "stream",
     "text": [
      "Eval steps: 100%|██████████| 1000/1000 [00:24<00:00, 41.24it/s, r=-505.44, s=0.00]\n"
     ]
    },
    {
     "name": "stdout",
     "output_type": "stream",
     "text": [
      "runs/20250127_014108-train_sac_rec_w3_image_imagenet1k_p30_566388\n",
      "Loading checkpoint from runs/20250127_014108-train_sac_rec_w3_image_imagenet1k_p30_566388/checkpoint_10000000.pth\n"
     ]
    },
    {
     "name": "stderr",
     "output_type": "stream",
     "text": [
      "Eval steps: 100%|██████████| 1000/1000 [00:23<00:00, 42.44it/s, r=-517.42, s=0.00]\n"
     ]
    },
    {
     "name": "stdout",
     "output_type": "stream",
     "text": [
      "runs/20241223_133130-train_sac_recv_w3_image_imagenet1k_p1_552857\n",
      "runs_sac/20241223_133130-train_sac_recv_w3_image_imagenet1k_p1_552857\n",
      "Loading checkpoint from runs_sac/20241223_133130-train_sac_recv_w3_image_imagenet1k_p1_552857/checkpoint_1409536.pth\n"
     ]
    },
    {
     "name": "stderr",
     "output_type": "stream",
     "text": [
      "Eval steps: 100%|██████████| 1000/1000 [00:21<00:00, 46.70it/s, r=-812.70, s=0.00]\n"
     ]
    },
    {
     "name": "stdout",
     "output_type": "stream",
     "text": [
      "runs/20241224_064159-train_sac_recv_w3_image_imagenet1k_p1_339846\n",
      "runs_sac/20241224_064159-train_sac_recv_w3_image_imagenet1k_p1_339846\n",
      "Loading checkpoint from runs_sac/20241224_064159-train_sac_recv_w3_image_imagenet1k_p1_339846/checkpoint_1070272.pth\n"
     ]
    },
    {
     "name": "stderr",
     "output_type": "stream",
     "text": [
      "Eval steps: 100%|██████████| 1000/1000 [00:23<00:00, 43.09it/s, r=-616.69, s=0.00]\n"
     ]
    },
    {
     "name": "stdout",
     "output_type": "stream",
     "text": [
      "runs/20241227_131112-train_sac_recv_w3_image_imagenet1k_p1_706321\n",
      "runs_sac/20241227_131112-train_sac_recv_w3_image_imagenet1k_p1_706321\n",
      "Loading checkpoint from runs_sac/20241227_131112-train_sac_recv_w3_image_imagenet1k_p1_706321/checkpoint_1383936.pth\n"
     ]
    },
    {
     "name": "stderr",
     "output_type": "stream",
     "text": [
      "Eval steps: 100%|██████████| 1000/1000 [00:21<00:00, 46.06it/s, r=-729.86, s=0.00]\n"
     ]
    },
    {
     "name": "stdout",
     "output_type": "stream",
     "text": [
      "runs/20250105_112143-train_sac_recv_w3_image_imagenet1k_p1_276683\n",
      "Loading checkpoint from runs/20250105_112143-train_sac_recv_w3_image_imagenet1k_p1_276683/checkpoint_1267136.pth\n"
     ]
    },
    {
     "name": "stderr",
     "output_type": "stream",
     "text": [
      "Eval steps: 100%|██████████| 1000/1000 [00:22<00:00, 43.54it/s, r=-598.43, s=0.00]\n"
     ]
    },
    {
     "name": "stdout",
     "output_type": "stream",
     "text": [
      "runs/20250105_123640-train_sac_recv_w3_image_imagenet1k_p1_100525\n",
      "runs_sac/20250105_123640-train_sac_recv_w3_image_imagenet1k_p1_100525\n",
      "Loading checkpoint from runs_sac/20250105_123640-train_sac_recv_w3_image_imagenet1k_p1_100525/checkpoint_1364224.pth\n"
     ]
    },
    {
     "name": "stderr",
     "output_type": "stream",
     "text": [
      "Eval steps: 100%|██████████| 1000/1000 [00:22<00:00, 45.03it/s, r=-675.37, s=0.00]\n"
     ]
    },
    {
     "name": "stdout",
     "output_type": "stream",
     "text": [
      "runs/20241224_173146-train_sac_recv_w3_image_imagenet1k_p5_208073\n",
      "runs_sac/20241224_173146-train_sac_recv_w3_image_imagenet1k_p5_208073\n",
      "Loading checkpoint from runs_sac/20241224_173146-train_sac_recv_w3_image_imagenet1k_p5_208073/checkpoint_8115840.pth\n"
     ]
    },
    {
     "name": "stderr",
     "output_type": "stream",
     "text": [
      "Eval steps: 100%|██████████| 1000/1000 [00:23<00:00, 42.57it/s, r=-540.80, s=0.00]\n"
     ]
    },
    {
     "name": "stdout",
     "output_type": "stream",
     "text": [
      "runs/20241226_012328-train_sac_recv_w3_image_imagenet1k_p5_170414\n",
      "runs_sac/20241226_012328-train_sac_recv_w3_image_imagenet1k_p5_170414\n",
      "Loading checkpoint from runs_sac/20241226_012328-train_sac_recv_w3_image_imagenet1k_p5_170414/checkpoint_4472512.pth\n"
     ]
    },
    {
     "name": "stderr",
     "output_type": "stream",
     "text": [
      "Eval steps: 100%|██████████| 1000/1000 [00:22<00:00, 43.51it/s, r=-559.47, s=0.00]\n"
     ]
    },
    {
     "name": "stdout",
     "output_type": "stream",
     "text": [
      "runs/20241226_103058-train_sac_recv_w3_image_imagenet1k_p5_500708\n",
      "runs_sac/20241226_103058-train_sac_recv_w3_image_imagenet1k_p5_500708\n",
      "Loading checkpoint from runs_sac/20241226_103058-train_sac_recv_w3_image_imagenet1k_p5_500708/checkpoint_7405184.pth\n"
     ]
    },
    {
     "name": "stderr",
     "output_type": "stream",
     "text": [
      "Eval steps: 100%|██████████| 1000/1000 [00:23<00:00, 43.24it/s, r=-550.21, s=0.00]\n"
     ]
    },
    {
     "name": "stdout",
     "output_type": "stream",
     "text": [
      "runs/20250106_002105-train_sac_recv_w3_image_imagenet1k_p5_496872\n",
      "Loading checkpoint from runs/20250106_002105-train_sac_recv_w3_image_imagenet1k_p5_496872/checkpoint_6445120.pth\n"
     ]
    },
    {
     "name": "stderr",
     "output_type": "stream",
     "text": [
      "Eval steps: 100%|██████████| 1000/1000 [00:23<00:00, 43.08it/s, r=-580.79, s=0.00]\n"
     ]
    },
    {
     "name": "stdout",
     "output_type": "stream",
     "text": [
      "runs/20250106_165334-train_sac_recv_w3_image_imagenet1k_p5_47213\n",
      "runs_sac/20250106_165334-train_sac_recv_w3_image_imagenet1k_p5_47213\n",
      "Loading checkpoint from runs_sac/20250106_165334-train_sac_recv_w3_image_imagenet1k_p5_47213/checkpoint_6029376.pth\n"
     ]
    },
    {
     "name": "stderr",
     "output_type": "stream",
     "text": [
      "Eval steps: 100%|██████████| 1000/1000 [00:23<00:00, 42.32it/s, r=-545.32, s=0.00]\n"
     ]
    },
    {
     "name": "stdout",
     "output_type": "stream",
     "text": [
      "runs/20241225_190129-train_sac_recv_w3_image_imagenet1k_p10_371397\n",
      "runs_sac/20241225_190129-train_sac_recv_w3_image_imagenet1k_p10_371397\n",
      "Loading checkpoint from runs_sac/20241225_190129-train_sac_recv_w3_image_imagenet1k_p10_371397/checkpoint_9000000.pth\n"
     ]
    },
    {
     "name": "stderr",
     "output_type": "stream",
     "text": [
      "Eval steps: 100%|██████████| 1000/1000 [00:23<00:00, 42.69it/s, r=-502.57, s=0.01]\n"
     ]
    },
    {
     "name": "stdout",
     "output_type": "stream",
     "text": [
      "runs/20241225_202115-train_sac_recv_w3_image_imagenet1k_p10_660291\n",
      "runs_sac/20241225_202115-train_sac_recv_w3_image_imagenet1k_p10_660291\n",
      "Loading checkpoint from runs_sac/20241225_202115-train_sac_recv_w3_image_imagenet1k_p10_660291/checkpoint_9000000.pth\n"
     ]
    },
    {
     "name": "stderr",
     "output_type": "stream",
     "text": [
      "Eval steps: 100%|██████████| 1000/1000 [00:23<00:00, 42.13it/s, r=-510.32, s=0.01]\n"
     ]
    },
    {
     "name": "stdout",
     "output_type": "stream",
     "text": [
      "runs/20241226_105853-train_sac_recv_w3_image_imagenet1k_p10_852833\n",
      "runs_sac/20241226_105853-train_sac_recv_w3_image_imagenet1k_p10_852833\n",
      "Loading checkpoint from runs_sac/20241226_105853-train_sac_recv_w3_image_imagenet1k_p10_852833/checkpoint_9000000.pth\n"
     ]
    },
    {
     "name": "stderr",
     "output_type": "stream",
     "text": [
      "Eval steps: 100%|██████████| 1000/1000 [00:23<00:00, 43.36it/s, r=-568.96, s=0.00]\n"
     ]
    },
    {
     "name": "stdout",
     "output_type": "stream",
     "text": [
      "runs/20250107_092032-train_sac_recv_w3_image_imagenet1k_p10_999994\n",
      "Loading checkpoint from runs/20250107_092032-train_sac_recv_w3_image_imagenet1k_p10_999994/checkpoint_10000000.pth\n"
     ]
    },
    {
     "name": "stderr",
     "output_type": "stream",
     "text": [
      "Eval steps: 100%|██████████| 1000/1000 [00:23<00:00, 42.50it/s, r=-511.99, s=0.00]\n"
     ]
    },
    {
     "name": "stdout",
     "output_type": "stream",
     "text": [
      "runs/20250122_184201-train_sac_recv_w3_image_imagenet1k_p10_678926\n",
      "Loading checkpoint from runs/20250122_184201-train_sac_recv_w3_image_imagenet1k_p10_678926/checkpoint_10000000.pth\n"
     ]
    },
    {
     "name": "stderr",
     "output_type": "stream",
     "text": [
      "Eval steps: 100%|██████████| 1000/1000 [00:22<00:00, 44.94it/s, r=-694.42, s=0.00]\n"
     ]
    },
    {
     "name": "stdout",
     "output_type": "stream",
     "text": [
      "runs/20250126_084706-train_sac_recv_w3_image_imagenet1k_p20_279667\n",
      "Loading checkpoint from runs/20250126_084706-train_sac_recv_w3_image_imagenet1k_p20_279667/checkpoint_10000000.pth\n"
     ]
    },
    {
     "name": "stderr",
     "output_type": "stream",
     "text": [
      "Eval steps: 100%|██████████| 1000/1000 [00:24<00:00, 41.46it/s, r=-495.43, s=0.00]\n"
     ]
    },
    {
     "name": "stdout",
     "output_type": "stream",
     "text": [
      "runs/20241222_231848-train_sac_tr_spra_w3_image_imagenet1k_p1_866147\n",
      "runs_sac/20241222_231848-train_sac_tr_spra_w3_image_imagenet1k_p1_866147\n",
      "Loading checkpoint from runs_sac/20241222_231848-train_sac_tr_spra_w3_image_imagenet1k_p1_866147/checkpoint_3820608.pth\n"
     ]
    },
    {
     "name": "stderr",
     "output_type": "stream",
     "text": [
      "Eval steps: 100%|██████████| 1000/1000 [00:22<00:00, 43.66it/s, r=-726.11, s=0.00]\n"
     ]
    },
    {
     "name": "stdout",
     "output_type": "stream",
     "text": [
      "runs/20241224_051100-train_sac_tr_spra_w3_image_imagenet1k_p1_484260\n",
      "runs_sac/20241224_051100-train_sac_tr_spra_w3_image_imagenet1k_p1_484260\n",
      "Loading checkpoint from runs_sac/20241224_051100-train_sac_tr_spra_w3_image_imagenet1k_p1_484260/checkpoint_3109312.pth\n"
     ]
    },
    {
     "name": "stderr",
     "output_type": "stream",
     "text": [
      "Eval steps: 100%|██████████| 1000/1000 [00:23<00:00, 42.29it/s, r=-540.33, s=0.03]\n"
     ]
    },
    {
     "name": "stdout",
     "output_type": "stream",
     "text": [
      "runs/20241226_183816-train_sac_tr_spra_w3_image_imagenet1k_p1_148750\n",
      "runs_sac/20241226_183816-train_sac_tr_spra_w3_image_imagenet1k_p1_148750\n",
      "Loading checkpoint from runs_sac/20241226_183816-train_sac_tr_spra_w3_image_imagenet1k_p1_148750/checkpoint_7312384.pth\n"
     ]
    },
    {
     "name": "stderr",
     "output_type": "stream",
     "text": [
      "Eval steps: 100%|██████████| 1000/1000 [00:22<00:00, 45.03it/s, r=-746.07, s=0.00]\n"
     ]
    },
    {
     "name": "stdout",
     "output_type": "stream",
     "text": [
      "runs/20250105_132546-train_sac_tr_spra_w3_image_imagenet1k_p1_872709\n",
      "Loading checkpoint from runs/20250105_132546-train_sac_tr_spra_w3_image_imagenet1k_p1_872709/checkpoint_5151104.pth\n"
     ]
    },
    {
     "name": "stderr",
     "output_type": "stream",
     "text": [
      "Eval steps: 100%|██████████| 1000/1000 [00:22<00:00, 45.06it/s, r=-679.15, s=0.00]\n"
     ]
    },
    {
     "name": "stdout",
     "output_type": "stream",
     "text": [
      "runs/20250105_164833-train_sac_tr_spra_w3_image_imagenet1k_p1_35094\n",
      "runs_sac/20250105_164833-train_sac_tr_spra_w3_image_imagenet1k_p1_35094\n",
      "Loading checkpoint from runs_sac/20250105_164833-train_sac_tr_spra_w3_image_imagenet1k_p1_35094/checkpoint_9726080.pth\n"
     ]
    },
    {
     "name": "stderr",
     "output_type": "stream",
     "text": [
      "Eval steps: 100%|██████████| 1000/1000 [00:23<00:00, 42.20it/s, r=-559.98, s=0.00]\n"
     ]
    },
    {
     "name": "stdout",
     "output_type": "stream",
     "text": [
      "runs/20241226_215913-train_sac_tr_spra_w3_image_imagenet1k_p5_857708\n",
      "runs_sac/20241226_215913-train_sac_tr_spra_w3_image_imagenet1k_p5_857708\n",
      "Loading checkpoint from runs_sac/20241226_215913-train_sac_tr_spra_w3_image_imagenet1k_p5_857708/checkpoint_9000000.pth\n"
     ]
    },
    {
     "name": "stderr",
     "output_type": "stream",
     "text": [
      "Eval steps: 100%|██████████| 1000/1000 [00:23<00:00, 43.09it/s, r=-585.94, s=0.00]\n"
     ]
    },
    {
     "name": "stdout",
     "output_type": "stream",
     "text": [
      "runs/20241227_022008-train_sac_tr_spra_w3_image_imagenet1k_p5_160381\n",
      "runs_sac/20241227_022008-train_sac_tr_spra_w3_image_imagenet1k_p5_160381\n",
      "Loading checkpoint from runs_sac/20241227_022008-train_sac_tr_spra_w3_image_imagenet1k_p5_160381/checkpoint_17700000.pth\n"
     ]
    },
    {
     "name": "stderr",
     "output_type": "stream",
     "text": [
      "Eval steps: 100%|██████████| 1000/1000 [00:23<00:00, 43.10it/s, r=-565.41, s=0.00]\n"
     ]
    },
    {
     "name": "stdout",
     "output_type": "stream",
     "text": [
      "runs/20241228_115918-train_sac_tr_spra_w3_image_imagenet1k_p5_213012\n",
      "runs_sac/20241228_115918-train_sac_tr_spra_w3_image_imagenet1k_p5_213012\n",
      "Loading checkpoint from runs_sac/20241228_115918-train_sac_tr_spra_w3_image_imagenet1k_p5_213012/checkpoint_9000000.pth\n"
     ]
    },
    {
     "name": "stderr",
     "output_type": "stream",
     "text": [
      "Eval steps: 100%|██████████| 1000/1000 [00:22<00:00, 45.16it/s, r=-671.04, s=0.00]\n"
     ]
    },
    {
     "name": "stdout",
     "output_type": "stream",
     "text": [
      "runs/20250106_094846-train_sac_tr_spra_w3_image_imagenet1k_p5_291449\n",
      "Loading checkpoint from runs/20250106_094846-train_sac_tr_spra_w3_image_imagenet1k_p5_291449/checkpoint_10000000.pth\n"
     ]
    },
    {
     "name": "stderr",
     "output_type": "stream",
     "text": [
      "Eval steps: 100%|██████████| 1000/1000 [00:23<00:00, 41.95it/s, r=-554.87, s=0.00]\n"
     ]
    },
    {
     "name": "stdout",
     "output_type": "stream",
     "text": [
      "runs/20250107_065322-train_sac_tr_spra_w3_image_imagenet1k_p5_915332\n",
      "runs_sac/20250107_065322-train_sac_tr_spra_w3_image_imagenet1k_p5_915332\n",
      "Loading checkpoint from runs_sac/20250107_065322-train_sac_tr_spra_w3_image_imagenet1k_p5_915332/checkpoint_10000000.pth\n"
     ]
    },
    {
     "name": "stderr",
     "output_type": "stream",
     "text": [
      "Eval steps: 100%|██████████| 1000/1000 [00:22<00:00, 44.38it/s, r=-634.26, s=0.00]\n"
     ]
    },
    {
     "name": "stdout",
     "output_type": "stream",
     "text": [
      "runs/20241227_013031-train_sac_tr_spra_w3_image_imagenet1k_p10_438031\n",
      "runs_sac/20241227_013031-train_sac_tr_spra_w3_image_imagenet1k_p10_438031\n",
      "Loading checkpoint from runs_sac/20241227_013031-train_sac_tr_spra_w3_image_imagenet1k_p10_438031/checkpoint_9000000.pth\n"
     ]
    },
    {
     "name": "stderr",
     "output_type": "stream",
     "text": [
      "Eval steps: 100%|██████████| 1000/1000 [00:23<00:00, 42.81it/s, r=-523.69, s=0.00]\n"
     ]
    },
    {
     "name": "stdout",
     "output_type": "stream",
     "text": [
      "runs/20241227_113924-train_sac_tr_spra_w3_image_imagenet1k_p10_976975\n",
      "runs_sac/20241227_113924-train_sac_tr_spra_w3_image_imagenet1k_p10_976975\n",
      "Loading checkpoint from runs_sac/20241227_113924-train_sac_tr_spra_w3_image_imagenet1k_p10_976975/checkpoint_9000000.pth\n"
     ]
    },
    {
     "name": "stderr",
     "output_type": "stream",
     "text": [
      "Eval steps: 100%|██████████| 1000/1000 [00:22<00:00, 43.69it/s, r=-536.18, s=0.00]\n"
     ]
    },
    {
     "name": "stdout",
     "output_type": "stream",
     "text": [
      "runs/20241228_010024-train_sac_tr_spra_w3_image_imagenet1k_p10_75993\n",
      "runs_sac/20241228_010024-train_sac_tr_spra_w3_image_imagenet1k_p10_75993\n",
      "Loading checkpoint from runs_sac/20241228_010024-train_sac_tr_spra_w3_image_imagenet1k_p10_75993/checkpoint_9000000.pth\n"
     ]
    },
    {
     "name": "stderr",
     "output_type": "stream",
     "text": [
      "Eval steps: 100%|██████████| 1000/1000 [00:23<00:00, 42.00it/s, r=-556.75, s=0.00]\n"
     ]
    },
    {
     "name": "stdout",
     "output_type": "stream",
     "text": [
      "runs/20250108_113109-train_sac_tr_spra_w3_image_imagenet1k_p10_982608\n",
      "Loading checkpoint from runs/20250108_113109-train_sac_tr_spra_w3_image_imagenet1k_p10_982608/checkpoint_10000000.pth\n"
     ]
    },
    {
     "name": "stderr",
     "output_type": "stream",
     "text": [
      "Eval steps: 100%|██████████| 1000/1000 [00:23<00:00, 42.86it/s, r=-548.82, s=0.00]\n"
     ]
    },
    {
     "name": "stdout",
     "output_type": "stream",
     "text": [
      "runs/20250109_180017-train_sac_tr_spra_w3_image_imagenet1k_p10_552093\n",
      "runs_sac/20250109_180017-train_sac_tr_spra_w3_image_imagenet1k_p10_552093\n",
      "Loading checkpoint from runs_sac/20250109_180017-train_sac_tr_spra_w3_image_imagenet1k_p10_552093/checkpoint_10000000.pth\n"
     ]
    },
    {
     "name": "stderr",
     "output_type": "stream",
     "text": [
      "Eval steps: 100%|██████████| 1000/1000 [00:23<00:00, 42.48it/s, r=-543.60, s=0.00]\n"
     ]
    },
    {
     "name": "stdout",
     "output_type": "stream",
     "text": [
      "runs/20241223_002648-train_sac_rew_trp_dbc_w3_image_imagenet1k_p1_646032\n",
      "runs_sac/20241223_002648-train_sac_rew_trp_dbc_w3_image_imagenet1k_p1_646032\n",
      "Loading checkpoint from runs_sac/20241223_002648-train_sac_rew_trp_dbc_w3_image_imagenet1k_p1_646032/checkpoint_512704.pth\n"
     ]
    },
    {
     "name": "stderr",
     "output_type": "stream",
     "text": [
      "Eval steps: 100%|██████████| 1000/1000 [00:21<00:00, 46.76it/s, r=-825.75, s=0.00]\n"
     ]
    },
    {
     "name": "stdout",
     "output_type": "stream",
     "text": [
      "runs/20241223_151812-train_sac_rew_trp_dbc_w3_image_imagenet1k_p1_557506\n",
      "runs_sac/20241223_151812-train_sac_rew_trp_dbc_w3_image_imagenet1k_p1_557506\n",
      "Loading checkpoint from runs_sac/20241223_151812-train_sac_rew_trp_dbc_w3_image_imagenet1k_p1_557506/checkpoint_528896.pth\n"
     ]
    },
    {
     "name": "stderr",
     "output_type": "stream",
     "text": [
      "Eval steps: 100%|██████████| 1000/1000 [00:21<00:00, 47.23it/s, r=-846.32, s=0.00]\n"
     ]
    },
    {
     "name": "stdout",
     "output_type": "stream",
     "text": [
      "runs/20241224_085719-train_sac_rew_trp_dbc_w3_image_imagenet1k_p1_517834\n",
      "runs_sac/20241224_085719-train_sac_rew_trp_dbc_w3_image_imagenet1k_p1_517834\n",
      "Loading checkpoint from runs_sac/20241224_085719-train_sac_rew_trp_dbc_w3_image_imagenet1k_p1_517834/checkpoint_551488.pth\n"
     ]
    },
    {
     "name": "stderr",
     "output_type": "stream",
     "text": [
      "Eval steps: 100%|██████████| 1000/1000 [00:23<00:00, 42.68it/s, r=-592.69, s=0.00]\n"
     ]
    },
    {
     "name": "stdout",
     "output_type": "stream",
     "text": [
      "runs/20250105_130454-train_sac_rew_trp_dbc_w3_image_imagenet1k_p1_69661\n",
      "Loading checkpoint from runs/20250105_130454-train_sac_rew_trp_dbc_w3_image_imagenet1k_p1_69661/checkpoint_478336.pth\n"
     ]
    },
    {
     "name": "stderr",
     "output_type": "stream",
     "text": [
      "Eval steps: 100%|██████████| 1000/1000 [00:21<00:00, 46.45it/s, r=-796.16, s=0.00] \n"
     ]
    },
    {
     "name": "stdout",
     "output_type": "stream",
     "text": [
      "runs/20250105_160340-train_sac_rew_trp_dbc_w3_image_imagenet1k_p1_883882\n",
      "runs_sac/20250105_160340-train_sac_rew_trp_dbc_w3_image_imagenet1k_p1_883882\n",
      "Loading checkpoint from runs_sac/20250105_160340-train_sac_rew_trp_dbc_w3_image_imagenet1k_p1_883882/checkpoint_603072.pth\n"
     ]
    },
    {
     "name": "stderr",
     "output_type": "stream",
     "text": [
      "Eval steps: 100%|██████████| 1000/1000 [00:23<00:00, 43.31it/s, r=-589.25, s=0.00]\n"
     ]
    },
    {
     "name": "stdout",
     "output_type": "stream",
     "text": [
      "runs/20241225_054914-train_sac_rew_trp_dbc_w3_image_imagenet1k_p5_442615\n",
      "runs_sac/20241225_054914-train_sac_rew_trp_dbc_w3_image_imagenet1k_p5_442615\n",
      "Loading checkpoint from runs_sac/20241225_054914-train_sac_rew_trp_dbc_w3_image_imagenet1k_p5_442615/checkpoint_1908416.pth\n"
     ]
    },
    {
     "name": "stderr",
     "output_type": "stream",
     "text": [
      "Eval steps: 100%|██████████| 1000/1000 [00:24<00:00, 41.20it/s, r=-538.37, s=0.00]\n"
     ]
    },
    {
     "name": "stdout",
     "output_type": "stream",
     "text": [
      "runs/20241226_083414-train_sac_rew_trp_dbc_w3_image_imagenet1k_p5_661863\n",
      "runs_sac/20241226_083414-train_sac_rew_trp_dbc_w3_image_imagenet1k_p5_661863\n",
      "Loading checkpoint from runs_sac/20241226_083414-train_sac_rew_trp_dbc_w3_image_imagenet1k_p5_661863/checkpoint_1668672.pth\n"
     ]
    },
    {
     "name": "stderr",
     "output_type": "stream",
     "text": [
      "Eval steps: 100%|██████████| 1000/1000 [00:23<00:00, 41.76it/s, r=-534.20, s=0.00]\n"
     ]
    },
    {
     "name": "stdout",
     "output_type": "stream",
     "text": [
      "runs/20241226_154654-train_sac_rew_trp_dbc_w3_image_imagenet1k_p5_986123\n",
      "runs_sac/20241226_154654-train_sac_rew_trp_dbc_w3_image_imagenet1k_p5_986123\n",
      "Loading checkpoint from runs_sac/20241226_154654-train_sac_rew_trp_dbc_w3_image_imagenet1k_p5_986123/checkpoint_1632320.pth\n"
     ]
    },
    {
     "name": "stderr",
     "output_type": "stream",
     "text": [
      "Eval steps: 100%|██████████| 1000/1000 [00:23<00:00, 43.05it/s, r=-552.15, s=0.00]\n"
     ]
    },
    {
     "name": "stdout",
     "output_type": "stream",
     "text": [
      "runs/20250106_080533-train_sac_rew_trp_dbc_w3_image_imagenet1k_p5_328809\n",
      "Loading checkpoint from runs/20250106_080533-train_sac_rew_trp_dbc_w3_image_imagenet1k_p5_328809/checkpoint_2320384.pth\n"
     ]
    },
    {
     "name": "stderr",
     "output_type": "stream",
     "text": [
      "Eval steps: 100%|██████████| 1000/1000 [00:22<00:00, 43.89it/s, r=-613.82, s=0.00]\n"
     ]
    },
    {
     "name": "stdout",
     "output_type": "stream",
     "text": [
      "runs/20250107_052200-train_sac_rew_trp_dbc_w3_image_imagenet1k_p5_97298\n",
      "runs_sac/20250107_052200-train_sac_rew_trp_dbc_w3_image_imagenet1k_p5_97298\n",
      "Loading checkpoint from runs_sac/20250107_052200-train_sac_rew_trp_dbc_w3_image_imagenet1k_p5_97298/checkpoint_1222144.pth\n"
     ]
    },
    {
     "name": "stderr",
     "output_type": "stream",
     "text": [
      "Eval steps: 100%|██████████| 1000/1000 [00:22<00:00, 45.28it/s, r=-558.53, s=0.00]\n"
     ]
    },
    {
     "name": "stdout",
     "output_type": "stream",
     "text": [
      "runs/20241226_005445-train_sac_rew_trp_dbc_w3_image_imagenet1k_p10_876756\n",
      "runs_sac/20241226_005445-train_sac_rew_trp_dbc_w3_image_imagenet1k_p10_876756\n",
      "Loading checkpoint from runs_sac/20241226_005445-train_sac_rew_trp_dbc_w3_image_imagenet1k_p10_876756/checkpoint_9000000.pth\n"
     ]
    },
    {
     "name": "stderr",
     "output_type": "stream",
     "text": [
      "Eval steps: 100%|██████████| 1000/1000 [00:21<00:00, 46.16it/s, r=-545.09, s=0.00]\n"
     ]
    },
    {
     "name": "stdout",
     "output_type": "stream",
     "text": [
      "runs/20241226_032800-train_sac_rew_trp_dbc_w3_image_imagenet1k_p10_453916\n",
      "runs_sac/20241226_032800-train_sac_rew_trp_dbc_w3_image_imagenet1k_p10_453916\n",
      "Loading checkpoint from runs_sac/20241226_032800-train_sac_rew_trp_dbc_w3_image_imagenet1k_p10_453916/checkpoint_9000000.pth\n"
     ]
    },
    {
     "name": "stderr",
     "output_type": "stream",
     "text": [
      "Eval steps: 100%|██████████| 1000/1000 [00:21<00:00, 46.14it/s, r=-515.20, s=0.00]\n"
     ]
    },
    {
     "name": "stdout",
     "output_type": "stream",
     "text": [
      "runs/20241226_103039-train_sac_rew_trp_dbc_w3_image_imagenet1k_p10_44465\n",
      "runs_sac/20241226_103039-train_sac_rew_trp_dbc_w3_image_imagenet1k_p10_44465\n",
      "Loading checkpoint from runs_sac/20241226_103039-train_sac_rew_trp_dbc_w3_image_imagenet1k_p10_44465/checkpoint_9000000.pth\n"
     ]
    },
    {
     "name": "stderr",
     "output_type": "stream",
     "text": [
      "Eval steps: 100%|██████████| 1000/1000 [00:21<00:00, 46.39it/s, r=-557.17, s=0.00]\n"
     ]
    },
    {
     "name": "stdout",
     "output_type": "stream",
     "text": [
      "runs/20250108_040217-train_sac_rew_trp_dbc_w3_image_imagenet1k_p10_662917\n",
      "Loading checkpoint from runs/20250108_040217-train_sac_rew_trp_dbc_w3_image_imagenet1k_p10_662917/checkpoint_10000000.pth\n"
     ]
    },
    {
     "name": "stderr",
     "output_type": "stream",
     "text": [
      "Eval steps: 100%|██████████| 1000/1000 [00:21<00:00, 46.59it/s, r=-538.22, s=0.00]\n"
     ]
    },
    {
     "name": "stdout",
     "output_type": "stream",
     "text": [
      "runs/20250109_102133-train_sac_rew_trp_dbc_w3_image_imagenet1k_p10_323837\n",
      "runs_sac/20250109_102133-train_sac_rew_trp_dbc_w3_image_imagenet1k_p10_323837\n",
      "Loading checkpoint from runs_sac/20250109_102133-train_sac_rew_trp_dbc_w3_image_imagenet1k_p10_323837/checkpoint_10000000.pth\n"
     ]
    },
    {
     "name": "stderr",
     "output_type": "stream",
     "text": [
      "Eval steps: 100%|██████████| 1000/1000 [00:21<00:00, 46.59it/s, r=-558.63, s=0.00]\n"
     ]
    },
    {
     "name": "stdout",
     "output_type": "stream",
     "text": [
      "runs/20241224_030529-train_sac_curla_w3_image_imagenet1k_p1_97082\n",
      "runs_sac/20241224_030529-train_sac_curla_w3_image_imagenet1k_p1_97082\n",
      "Loading checkpoint from runs_sac/20241224_030529-train_sac_curla_w3_image_imagenet1k_p1_97082/checkpoint_690240.pth\n"
     ]
    },
    {
     "name": "stderr",
     "output_type": "stream",
     "text": [
      "Eval steps: 100%|██████████| 1000/1000 [00:20<00:00, 48.01it/s, r=-653.93, s=0.00]\n"
     ]
    },
    {
     "name": "stdout",
     "output_type": "stream",
     "text": [
      "runs/20241224_200946-train_sac_curla_w3_image_imagenet1k_p1_161419\n",
      "runs_sac/20241224_200946-train_sac_curla_w3_image_imagenet1k_p1_161419\n",
      "Loading checkpoint from runs_sac/20241224_200946-train_sac_curla_w3_image_imagenet1k_p1_161419/checkpoint_744576.pth\n"
     ]
    },
    {
     "name": "stderr",
     "output_type": "stream",
     "text": [
      "Eval steps: 100%|██████████| 1000/1000 [00:20<00:00, 48.50it/s, r=-526.35, s=0.00]\n"
     ]
    },
    {
     "name": "stdout",
     "output_type": "stream",
     "text": [
      "runs/20241226_142812-train_sac_curla_w3_image_imagenet1k_p1_933102\n",
      "runs_sac/20241226_142812-train_sac_curla_w3_image_imagenet1k_p1_933102\n",
      "Loading checkpoint from runs_sac/20241226_142812-train_sac_curla_w3_image_imagenet1k_p1_933102/checkpoint_791936.pth\n"
     ]
    },
    {
     "name": "stderr",
     "output_type": "stream",
     "text": [
      "Eval steps: 100%|██████████| 1000/1000 [00:18<00:00, 54.82it/s, r=-590.61, s=0.00]\n"
     ]
    },
    {
     "name": "stdout",
     "output_type": "stream",
     "text": [
      "runs/20250105_122949-train_sac_curla_w3_image_imagenet1k_p1_744582\n",
      "Loading checkpoint from runs/20250105_122949-train_sac_curla_w3_image_imagenet1k_p1_744582/checkpoint_530496.pth\n"
     ]
    },
    {
     "name": "stderr",
     "output_type": "stream",
     "text": [
      "Eval steps: 100%|██████████| 1000/1000 [00:21<00:00, 47.50it/s, r=-528.12, s=0.00]\n"
     ]
    },
    {
     "name": "stdout",
     "output_type": "stream",
     "text": [
      "runs/20250105_144410-train_sac_curla_w3_image_imagenet1k_p1_256644\n",
      "runs_sac/20250105_144410-train_sac_curla_w3_image_imagenet1k_p1_256644\n",
      "Loading checkpoint from runs_sac/20250105_144410-train_sac_curla_w3_image_imagenet1k_p1_256644/checkpoint_746176.pth\n"
     ]
    },
    {
     "name": "stderr",
     "output_type": "stream",
     "text": [
      "Eval steps: 100%|██████████| 1000/1000 [00:21<00:00, 46.74it/s, r=-546.83, s=0.00]\n"
     ]
    },
    {
     "name": "stdout",
     "output_type": "stream",
     "text": [
      "runs/20241224_154939-train_sac_curla_w3_image_imagenet1k_p5_379213\n",
      "runs_sac/20241224_154939-train_sac_curla_w3_image_imagenet1k_p5_379213\n",
      "Loading checkpoint from runs_sac/20241224_154939-train_sac_curla_w3_image_imagenet1k_p5_379213/checkpoint_2100224.pth\n"
     ]
    },
    {
     "name": "stderr",
     "output_type": "stream",
     "text": [
      "Eval steps: 100%|██████████| 1000/1000 [00:21<00:00, 46.65it/s, r=-541.39, s=0.00]\n"
     ]
    },
    {
     "name": "stdout",
     "output_type": "stream",
     "text": [
      "runs/20241225_125519-train_sac_curla_w3_image_imagenet1k_p5_499554\n",
      "runs_sac/20241225_125519-train_sac_curla_w3_image_imagenet1k_p5_499554\n",
      "Loading checkpoint from runs_sac/20241225_125519-train_sac_curla_w3_image_imagenet1k_p5_499554/checkpoint_1736064.pth\n"
     ]
    },
    {
     "name": "stderr",
     "output_type": "stream",
     "text": [
      "Eval steps: 100%|██████████| 1000/1000 [00:21<00:00, 46.52it/s, r=-519.33, s=0.00]\n"
     ]
    },
    {
     "name": "stdout",
     "output_type": "stream",
     "text": [
      "runs/20241226_153749-train_sac_curla_w3_image_imagenet1k_p5_60571\n",
      "runs_sac/20241226_153749-train_sac_curla_w3_image_imagenet1k_p5_60571\n",
      "Loading checkpoint from runs_sac/20241226_153749-train_sac_curla_w3_image_imagenet1k_p5_60571/checkpoint_2984320.pth\n"
     ]
    },
    {
     "name": "stderr",
     "output_type": "stream",
     "text": [
      "Eval steps: 100%|██████████| 1000/1000 [00:21<00:00, 46.25it/s, r=-536.75, s=0.00]\n"
     ]
    },
    {
     "name": "stdout",
     "output_type": "stream",
     "text": [
      "runs/20250106_060929-train_sac_curla_w3_image_imagenet1k_p5_763929\n",
      "Loading checkpoint from runs/20250106_060929-train_sac_curla_w3_image_imagenet1k_p5_763929/checkpoint_2037056.pth\n"
     ]
    },
    {
     "name": "stderr",
     "output_type": "stream",
     "text": [
      "Eval steps: 100%|██████████| 1000/1000 [00:21<00:00, 46.19it/s, r=-528.34, s=0.01]\n"
     ]
    },
    {
     "name": "stdout",
     "output_type": "stream",
     "text": [
      "runs/20250107_020435-train_sac_curla_w3_image_imagenet1k_p5_456743\n",
      "runs_sac/20250107_020435-train_sac_curla_w3_image_imagenet1k_p5_456743\n",
      "Loading checkpoint from runs_sac/20250107_020435-train_sac_curla_w3_image_imagenet1k_p5_456743/checkpoint_2017600.pth\n"
     ]
    },
    {
     "name": "stderr",
     "output_type": "stream",
     "text": [
      "Eval steps: 100%|██████████| 1000/1000 [00:21<00:00, 46.18it/s, r=-515.63, s=0.00]\n"
     ]
    },
    {
     "name": "stdout",
     "output_type": "stream",
     "text": [
      "runs/20241224_201047-train_sac_curla_w3_image_imagenet1k_p10_378807\n",
      "runs_sac/20241224_201047-train_sac_curla_w3_image_imagenet1k_p10_378807\n",
      "Loading checkpoint from runs_sac/20241224_201047-train_sac_curla_w3_image_imagenet1k_p10_378807/checkpoint_4944896.pth\n"
     ]
    },
    {
     "name": "stderr",
     "output_type": "stream",
     "text": [
      "Eval steps: 100%|██████████| 1000/1000 [00:21<00:00, 46.03it/s, r=-518.42, s=0.00]\n"
     ]
    },
    {
     "name": "stdout",
     "output_type": "stream",
     "text": [
      "runs/20241225_005555-train_sac_curla_w3_image_imagenet1k_p10_518336\n",
      "runs_sac/20241225_005555-train_sac_curla_w3_image_imagenet1k_p10_518336\n",
      "Loading checkpoint from runs_sac/20241225_005555-train_sac_curla_w3_image_imagenet1k_p10_518336/checkpoint_4998720.pth\n"
     ]
    },
    {
     "name": "stderr",
     "output_type": "stream",
     "text": [
      "Eval steps: 100%|██████████| 1000/1000 [00:21<00:00, 45.94it/s, r=-497.28, s=0.00]\n"
     ]
    },
    {
     "name": "stdout",
     "output_type": "stream",
     "text": [
      "runs/20241226_200105-train_sac_curla_w3_image_imagenet1k_p10_969718\n",
      "runs_sac/20241226_200105-train_sac_curla_w3_image_imagenet1k_p10_969718\n",
      "Loading checkpoint from runs_sac/20241226_200105-train_sac_curla_w3_image_imagenet1k_p10_969718/checkpoint_6028736.pth\n"
     ]
    },
    {
     "name": "stderr",
     "output_type": "stream",
     "text": [
      "Eval steps: 100%|██████████| 1000/1000 [00:21<00:00, 46.13it/s, r=-538.68, s=0.00]\n"
     ]
    },
    {
     "name": "stdout",
     "output_type": "stream",
     "text": [
      "runs/20250107_183811-train_sac_curla_w3_image_imagenet1k_p10_70888\n",
      "Loading checkpoint from runs/20250107_183811-train_sac_curla_w3_image_imagenet1k_p10_70888/checkpoint_9385152.pth\n"
     ]
    },
    {
     "name": "stderr",
     "output_type": "stream",
     "text": [
      "Eval steps: 100%|██████████| 1000/1000 [00:21<00:00, 46.04it/s, r=-532.58, s=0.00]\n"
     ]
    },
    {
     "name": "stdout",
     "output_type": "stream",
     "text": [
      "runs/20250109_065105-train_sac_curla_w3_image_imagenet1k_p10_672686\n",
      "runs_sac/20250109_065105-train_sac_curla_w3_image_imagenet1k_p10_672686\n",
      "Loading checkpoint from runs_sac/20250109_065105-train_sac_curla_w3_image_imagenet1k_p10_672686/checkpoint_3344192.pth\n"
     ]
    },
    {
     "name": "stderr",
     "output_type": "stream",
     "text": [
      "Eval steps: 100%|██████████| 1000/1000 [00:21<00:00, 46.28it/s, r=-522.70, s=0.00]\n"
     ]
    },
    {
     "name": "stdout",
     "output_type": "stream",
     "text": [
      "runs/20241224_030632-train_sac_curla_w3_image_imagenet1k_p20_335862\n",
      "runs_sac/20241224_030632-train_sac_curla_w3_image_imagenet1k_p20_335862\n",
      "Loading checkpoint from runs_sac/20241224_030632-train_sac_curla_w3_image_imagenet1k_p20_335862/checkpoint_9000000.pth\n"
     ]
    },
    {
     "name": "stderr",
     "output_type": "stream",
     "text": [
      "Eval steps: 100%|██████████| 1000/1000 [00:21<00:00, 46.28it/s, r=-510.70, s=0.00]\n"
     ]
    },
    {
     "name": "stdout",
     "output_type": "stream",
     "text": [
      "runs/20241224_043457-train_saca_w3_image_imagenet1k_p1_277639\n",
      "runs_sac/20241224_043457-train_saca_w3_image_imagenet1k_p1_277639\n",
      "Loading checkpoint from runs_sac/20241224_043457-train_saca_w3_image_imagenet1k_p1_277639/checkpoint_376128.pth\n"
     ]
    },
    {
     "name": "stderr",
     "output_type": "stream",
     "text": [
      "Eval steps: 100%|██████████| 1000/1000 [00:20<00:00, 48.97it/s, r=-640.11, s=0.00]\n"
     ]
    },
    {
     "name": "stdout",
     "output_type": "stream",
     "text": [
      "runs/20241224_211942-train_saca_w3_image_imagenet1k_p1_136194\n",
      "runs_sac/20241224_211942-train_saca_w3_image_imagenet1k_p1_136194\n",
      "Loading checkpoint from runs_sac/20241224_211942-train_saca_w3_image_imagenet1k_p1_136194/checkpoint_321600.pth\n"
     ]
    },
    {
     "name": "stderr",
     "output_type": "stream",
     "text": [
      "Eval steps: 100%|██████████| 1000/1000 [00:20<00:00, 48.38it/s, r=-629.99, s=0.00]\n"
     ]
    },
    {
     "name": "stdout",
     "output_type": "stream",
     "text": [
      "runs/20241227_054812-train_saca_w3_image_imagenet1k_p1_318303\n",
      "runs_sac/20241227_054812-train_saca_w3_image_imagenet1k_p1_318303\n",
      "Loading checkpoint from runs_sac/20241227_054812-train_saca_w3_image_imagenet1k_p1_318303/checkpoint_286272.pth\n"
     ]
    },
    {
     "name": "stderr",
     "output_type": "stream",
     "text": [
      "Eval steps: 100%|██████████| 1000/1000 [00:18<00:00, 53.56it/s, r=-855.39, s=0.00]\n"
     ]
    },
    {
     "name": "stdout",
     "output_type": "stream",
     "text": [
      "runs/20250105_125542-train_saca_w3_image_imagenet1k_p1_205975\n",
      "Loading checkpoint from runs/20250105_125542-train_saca_w3_image_imagenet1k_p1_205975/checkpoint_268160.pth\n"
     ]
    },
    {
     "name": "stderr",
     "output_type": "stream",
     "text": [
      "Eval steps: 100%|██████████| 1000/1000 [00:21<00:00, 46.39it/s, r=-530.83, s=0.00]\n"
     ]
    },
    {
     "name": "stdout",
     "output_type": "stream",
     "text": [
      "runs/20250105_154642-train_saca_w3_image_imagenet1k_p1_35896\n",
      "runs_sac/20250105_154642-train_saca_w3_image_imagenet1k_p1_35896\n",
      "Loading checkpoint from runs_sac/20250105_154642-train_saca_w3_image_imagenet1k_p1_35896/checkpoint_319360.pth\n"
     ]
    },
    {
     "name": "stderr",
     "output_type": "stream",
     "text": [
      "Eval steps: 100%|██████████| 1000/1000 [00:21<00:00, 46.20it/s, r=-552.37, s=0.00]\n"
     ]
    },
    {
     "name": "stdout",
     "output_type": "stream",
     "text": [
      "runs/20241224_021055-train_saca_w3_image_imagenet1k_p5_762011\n",
      "runs_sac/20241224_021055-train_saca_w3_image_imagenet1k_p5_762011\n",
      "Loading checkpoint from runs_sac/20241224_021055-train_saca_w3_image_imagenet1k_p5_762011/checkpoint_566912.pth\n"
     ]
    },
    {
     "name": "stderr",
     "output_type": "stream",
     "text": [
      "Eval steps: 100%|██████████| 1000/1000 [00:21<00:00, 46.48it/s, r=-527.19, s=0.00]\n"
     ]
    },
    {
     "name": "stdout",
     "output_type": "stream",
     "text": [
      "runs/20241224_202101-train_saca_w3_image_imagenet1k_p5_337460\n",
      "runs_sac/20241224_202101-train_saca_w3_image_imagenet1k_p5_337460\n",
      "Loading checkpoint from runs_sac/20241224_202101-train_saca_w3_image_imagenet1k_p5_337460/checkpoint_693568.pth\n"
     ]
    },
    {
     "name": "stderr",
     "output_type": "stream",
     "text": [
      "Eval steps: 100%|██████████| 1000/1000 [00:21<00:00, 46.22it/s, r=-521.98, s=0.00]\n"
     ]
    },
    {
     "name": "stdout",
     "output_type": "stream",
     "text": [
      "runs/20241227_033327-train_saca_w3_image_imagenet1k_p5_313429\n",
      "runs_sac/20241227_033327-train_saca_w3_image_imagenet1k_p5_313429\n",
      "Loading checkpoint from runs_sac/20241227_033327-train_saca_w3_image_imagenet1k_p5_313429/checkpoint_627840.pth\n"
     ]
    },
    {
     "name": "stderr",
     "output_type": "stream",
     "text": [
      "Eval steps: 100%|██████████| 1000/1000 [00:21<00:00, 45.94it/s, r=-545.03, s=0.00]\n"
     ]
    },
    {
     "name": "stdout",
     "output_type": "stream",
     "text": [
      "runs/20250106_075018-train_saca_w3_image_imagenet1k_p5_999453\n",
      "Loading checkpoint from runs/20250106_075018-train_saca_w3_image_imagenet1k_p5_999453/checkpoint_439872.pth\n"
     ]
    },
    {
     "name": "stderr",
     "output_type": "stream",
     "text": [
      "Eval steps: 100%|██████████| 1000/1000 [00:21<00:00, 45.92it/s, r=-523.51, s=0.00]\n"
     ]
    },
    {
     "name": "stdout",
     "output_type": "stream",
     "text": [
      "runs/20250107_045154-train_saca_w3_image_imagenet1k_p5_449648\n",
      "runs_sac/20250107_045154-train_saca_w3_image_imagenet1k_p5_449648\n",
      "Loading checkpoint from runs_sac/20250107_045154-train_saca_w3_image_imagenet1k_p5_449648/checkpoint_574144.pth\n"
     ]
    },
    {
     "name": "stderr",
     "output_type": "stream",
     "text": [
      "Eval steps: 100%|██████████| 1000/1000 [00:21<00:00, 46.28it/s, r=-511.52, s=0.00]\n"
     ]
    },
    {
     "name": "stdout",
     "output_type": "stream",
     "text": [
      "runs/20241225_024211-train_saca_w3_image_imagenet1k_p10_353675\n",
      "runs_sac/20241225_024211-train_saca_w3_image_imagenet1k_p10_353675\n",
      "Loading checkpoint from runs_sac/20241225_024211-train_saca_w3_image_imagenet1k_p10_353675/checkpoint_1518272.pth\n"
     ]
    },
    {
     "name": "stderr",
     "output_type": "stream",
     "text": [
      "Eval steps: 100%|██████████| 1000/1000 [00:21<00:00, 46.32it/s, r=-534.18, s=0.00]\n"
     ]
    },
    {
     "name": "stdout",
     "output_type": "stream",
     "text": [
      "runs/20241225_111722-train_saca_w3_image_imagenet1k_p10_699238\n",
      "runs_sac/20241225_111722-train_saca_w3_image_imagenet1k_p10_699238\n",
      "Loading checkpoint from runs_sac/20241225_111722-train_saca_w3_image_imagenet1k_p10_699238/checkpoint_1099136.pth\n"
     ]
    },
    {
     "name": "stderr",
     "output_type": "stream",
     "text": [
      "Eval steps: 100%|██████████| 1000/1000 [00:21<00:00, 45.90it/s, r=-527.41, s=0.00]\n"
     ]
    },
    {
     "name": "stdout",
     "output_type": "stream",
     "text": [
      "runs/20241226_103924-train_saca_w3_image_imagenet1k_p10_517717\n",
      "runs_sac/20241226_103924-train_saca_w3_image_imagenet1k_p10_517717\n",
      "Loading checkpoint from runs_sac/20241226_103924-train_saca_w3_image_imagenet1k_p10_517717/checkpoint_2455680.pth\n"
     ]
    },
    {
     "name": "stderr",
     "output_type": "stream",
     "text": [
      "Eval steps: 100%|██████████| 1000/1000 [00:21<00:00, 46.43it/s, r=-510.96, s=0.00]\n"
     ]
    },
    {
     "name": "stdout",
     "output_type": "stream",
     "text": [
      "runs/20250108_022511-train_saca_w3_image_imagenet1k_p10_973264\n",
      "Loading checkpoint from runs/20250108_022511-train_saca_w3_image_imagenet1k_p10_973264/checkpoint_2745024.pth\n"
     ]
    },
    {
     "name": "stderr",
     "output_type": "stream",
     "text": [
      "Eval steps: 100%|██████████| 1000/1000 [00:21<00:00, 46.25it/s, r=-533.93, s=0.00]\n"
     ]
    },
    {
     "name": "stdout",
     "output_type": "stream",
     "text": [
      "runs/20250109_094047-train_saca_w3_image_imagenet1k_p10_351053\n",
      "runs_sac/20250109_094047-train_saca_w3_image_imagenet1k_p10_351053\n",
      "Loading checkpoint from runs_sac/20250109_094047-train_saca_w3_image_imagenet1k_p10_351053/checkpoint_1123904.pth\n"
     ]
    },
    {
     "name": "stderr",
     "output_type": "stream",
     "text": [
      "Eval steps: 100%|██████████| 1000/1000 [00:21<00:00, 45.63it/s, r=-513.76, s=0.00]\n"
     ]
    },
    {
     "name": "stdout",
     "output_type": "stream",
     "text": [
      "runs/20250122_122228-train_saca_w3_image_imagenet1k_p10_2109\n",
      "Loading checkpoint from runs/20250122_122228-train_saca_w3_image_imagenet1k_p10_2109/checkpoint_2587904.pth\n"
     ]
    },
    {
     "name": "stderr",
     "output_type": "stream",
     "text": [
      "Eval steps: 100%|██████████| 1000/1000 [00:21<00:00, 45.88it/s, r=-508.11, s=0.00]\n"
     ]
    },
    {
     "name": "stdout",
     "output_type": "stream",
     "text": [
      "runs/20250105_095757-train_saca_w3_image_imagenet1k_p20_412291\n",
      "runs_sac/20250105_095757-train_saca_w3_image_imagenet1k_p20_412291\n",
      "Loading checkpoint from runs_sac/20250105_095757-train_saca_w3_image_imagenet1k_p20_412291/checkpoint_10000000.pth\n"
     ]
    },
    {
     "name": "stderr",
     "output_type": "stream",
     "text": [
      "Eval steps: 100%|██████████| 1000/1000 [00:20<00:00, 49.61it/s, r=-687.12, s=0.00]\n"
     ]
    },
    {
     "name": "stdout",
     "output_type": "stream",
     "text": [
      "runs/20250106_145506-train_saca_w3_image_imagenet1k_p20_935642\n",
      "runs_sac/20250106_145506-train_saca_w3_image_imagenet1k_p20_935642\n",
      "Loading checkpoint from runs_sac/20250106_145506-train_saca_w3_image_imagenet1k_p20_935642/checkpoint_10000000.pth\n"
     ]
    },
    {
     "name": "stderr",
     "output_type": "stream",
     "text": [
      "Eval steps: 100%|██████████| 1000/1000 [00:20<00:00, 49.06it/s, r=-677.09, s=0.00]\n"
     ]
    },
    {
     "name": "stdout",
     "output_type": "stream",
     "text": [
      "runs/20250107_200946-train_saca_w3_image_imagenet1k_p20_403877\n",
      "runs_sac/20250107_200946-train_saca_w3_image_imagenet1k_p20_403877\n",
      "Loading checkpoint from runs_sac/20250107_200946-train_saca_w3_image_imagenet1k_p20_403877/checkpoint_10000000.pth\n"
     ]
    },
    {
     "name": "stderr",
     "output_type": "stream",
     "text": [
      "Eval steps: 100%|██████████| 1000/1000 [00:21<00:00, 46.91it/s, r=-597.21, s=0.00]\n"
     ]
    },
    {
     "name": "stdout",
     "output_type": "stream",
     "text": [
      "runs/20250126_072601-train_saca_w3_image_imagenet1k_p20_547994\n",
      "Loading checkpoint from runs/20250126_072601-train_saca_w3_image_imagenet1k_p20_547994/checkpoint_3000000.pth\n"
     ]
    },
    {
     "name": "stderr",
     "output_type": "stream",
     "text": [
      "Eval steps: 100%|██████████| 1000/1000 [00:21<00:00, 45.55it/s, r=-523.71, s=0.00]\n"
     ]
    },
    {
     "name": "stdout",
     "output_type": "stream",
     "text": [
      "runs/20250105_195119-train_saca_w3_image_imagenet1k_p50_202324\n",
      "runs_sac/20250105_195119-train_saca_w3_image_imagenet1k_p50_202324\n",
      "Loading checkpoint from runs_sac/20250105_195119-train_saca_w3_image_imagenet1k_p50_202324/checkpoint_10000000.pth\n"
     ]
    },
    {
     "name": "stderr",
     "output_type": "stream",
     "text": [
      "Eval steps: 100%|██████████| 1000/1000 [00:20<00:00, 47.72it/s, r=-590.44, s=0.00]\n"
     ]
    },
    {
     "name": "stdout",
     "output_type": "stream",
     "text": [
      "runs/20250107_010714-train_saca_w3_image_imagenet1k_p50_853922\n",
      "runs_sac/20250107_010714-train_saca_w3_image_imagenet1k_p50_853922\n",
      "Loading checkpoint from runs_sac/20250107_010714-train_saca_w3_image_imagenet1k_p50_853922/checkpoint_10000000.pth\n"
     ]
    },
    {
     "name": "stderr",
     "output_type": "stream",
     "text": [
      "Eval steps: 100%|██████████| 1000/1000 [00:21<00:00, 45.84it/s, r=-528.11, s=0.00]\n"
     ]
    },
    {
     "name": "stdout",
     "output_type": "stream",
     "text": [
      "runs/20250108_054310-train_saca_w3_image_imagenet1k_p50_790050\n",
      "runs_sac/20250108_054310-train_saca_w3_image_imagenet1k_p50_790050\n",
      "Loading checkpoint from runs_sac/20250108_054310-train_saca_w3_image_imagenet1k_p50_790050/checkpoint_10000000.pth\n"
     ]
    },
    {
     "name": "stderr",
     "output_type": "stream",
     "text": [
      "Eval steps: 100%|██████████| 1000/1000 [00:21<00:00, 46.04it/s, r=-546.90, s=0.00]\n"
     ]
    },
    {
     "name": "stdout",
     "output_type": "stream",
     "text": [
      "runs/20250106_051501-train_saca_w3_image_imagenet1k_p100_888907\n",
      "runs_sac/20250106_051501-train_saca_w3_image_imagenet1k_p100_888907\n",
      "Loading checkpoint from runs_sac/20250106_051501-train_saca_w3_image_imagenet1k_p100_888907/checkpoint_10000000.pth\n"
     ]
    },
    {
     "name": "stderr",
     "output_type": "stream",
     "text": [
      "Eval steps: 100%|██████████| 1000/1000 [00:20<00:00, 47.77it/s, r=-621.56, s=0.00]\n"
     ]
    },
    {
     "name": "stdout",
     "output_type": "stream",
     "text": [
      "runs/20250107_104616-train_saca_w3_image_imagenet1k_p100_571635\n",
      "runs_sac/20250107_104616-train_saca_w3_image_imagenet1k_p100_571635\n",
      "Loading checkpoint from runs_sac/20250107_104616-train_saca_w3_image_imagenet1k_p100_571635/checkpoint_10000000.pth\n"
     ]
    },
    {
     "name": "stderr",
     "output_type": "stream",
     "text": [
      "Eval steps: 100%|██████████| 1000/1000 [00:21<00:00, 46.37it/s, r=-541.05, s=0.00]\n"
     ]
    },
    {
     "name": "stdout",
     "output_type": "stream",
     "text": [
      "runs/20250108_153854-train_saca_w3_image_imagenet1k_p100_824343\n",
      "runs_sac/20250108_153854-train_saca_w3_image_imagenet1k_p100_824343\n",
      "Loading checkpoint from runs_sac/20250108_153854-train_saca_w3_image_imagenet1k_p100_824343/checkpoint_10000000.pth\n"
     ]
    },
    {
     "name": "stderr",
     "output_type": "stream",
     "text": [
      "Eval steps: 100%|██████████| 1000/1000 [00:21<00:00, 47.25it/s, r=-606.32, s=0.00]\n"
     ]
    },
    {
     "name": "stdout",
     "output_type": "stream",
     "text": [
      "runs/20241223_122558-train_sac_rew_tr_w3_image_imagenet1k_p1_244641\n",
      "runs_sac/20241223_122558-train_sac_rew_tr_w3_image_imagenet1k_p1_244641\n",
      "Loading checkpoint from runs_sac/20241223_122558-train_sac_rew_tr_w3_image_imagenet1k_p1_244641/checkpoint_778688.pth\n"
     ]
    },
    {
     "name": "stderr",
     "output_type": "stream",
     "text": [
      "Eval steps: 100%|██████████| 1000/1000 [00:21<00:00, 46.34it/s, r=-547.14, s=0.00]\n"
     ]
    },
    {
     "name": "stdout",
     "output_type": "stream",
     "text": [
      "runs/20241224_024146-train_sac_rew_tr_w3_image_imagenet1k_p1_534249\n",
      "runs_sac/20241224_024146-train_sac_rew_tr_w3_image_imagenet1k_p1_534249\n",
      "Loading checkpoint from runs_sac/20241224_024146-train_sac_rew_tr_w3_image_imagenet1k_p1_534249/checkpoint_2959744.pth\n"
     ]
    },
    {
     "name": "stderr",
     "output_type": "stream",
     "text": [
      "Eval steps: 100%|██████████| 1000/1000 [00:20<00:00, 48.97it/s, r=-671.55, s=0.00]\n"
     ]
    },
    {
     "name": "stdout",
     "output_type": "stream",
     "text": [
      "runs/20241226_212039-train_sac_rew_tr_w3_image_imagenet1k_p1_332820\n",
      "runs_sac/20241226_212039-train_sac_rew_tr_w3_image_imagenet1k_p1_332820\n",
      "Loading checkpoint from runs_sac/20241226_212039-train_sac_rew_tr_w3_image_imagenet1k_p1_332820/checkpoint_496512.pth\n"
     ]
    },
    {
     "name": "stderr",
     "output_type": "stream",
     "text": [
      "Eval steps: 100%|██████████| 1000/1000 [00:21<00:00, 46.21it/s, r=-552.94, s=0.00]\n"
     ]
    },
    {
     "name": "stdout",
     "output_type": "stream",
     "text": [
      "runs/20250105_102409-train_sac_rew_tr_w3_image_imagenet1k_p1_672443\n",
      "Loading checkpoint from runs/20250105_102409-train_sac_rew_tr_w3_image_imagenet1k_p1_672443/checkpoint_688064.pth\n"
     ]
    },
    {
     "name": "stderr",
     "output_type": "stream",
     "text": [
      "Eval steps: 100%|██████████| 1000/1000 [00:20<00:00, 47.79it/s, r=-607.88, s=0.00]\n"
     ]
    },
    {
     "name": "stdout",
     "output_type": "stream",
     "text": [
      "runs/20250105_103451-train_sac_rew_tr_w3_image_imagenet1k_p1_843083\n",
      "runs_sac/20250105_103451-train_sac_rew_tr_w3_image_imagenet1k_p1_843083\n",
      "Loading checkpoint from runs_sac/20250105_103451-train_sac_rew_tr_w3_image_imagenet1k_p1_843083/checkpoint_968640.pth\n"
     ]
    },
    {
     "name": "stderr",
     "output_type": "stream",
     "text": [
      "Eval steps: 100%|██████████| 1000/1000 [00:21<00:00, 46.79it/s, r=-610.91, s=0.00]\n"
     ]
    },
    {
     "name": "stdout",
     "output_type": "stream",
     "text": [
      "runs/20241224_121206-train_sac_rew_tr_w3_image_imagenet1k_p5_650720\n",
      "runs_sac/20241224_121206-train_sac_rew_tr_w3_image_imagenet1k_p5_650720\n",
      "Loading checkpoint from runs_sac/20241224_121206-train_sac_rew_tr_w3_image_imagenet1k_p5_650720/checkpoint_3119424.pth\n"
     ]
    },
    {
     "name": "stderr",
     "output_type": "stream",
     "text": [
      "Eval steps: 100%|██████████| 1000/1000 [00:21<00:00, 46.05it/s, r=-542.82, s=0.00]\n"
     ]
    },
    {
     "name": "stdout",
     "output_type": "stream",
     "text": [
      "runs/20241226_031257-train_sac_rew_tr_w3_image_imagenet1k_p5_556028\n",
      "runs_sac/20241226_031257-train_sac_rew_tr_w3_image_imagenet1k_p5_556028\n",
      "Loading checkpoint from runs_sac/20241226_031257-train_sac_rew_tr_w3_image_imagenet1k_p5_556028/checkpoint_9000000.pth\n"
     ]
    },
    {
     "name": "stderr",
     "output_type": "stream",
     "text": [
      "Eval steps: 100%|██████████| 1000/1000 [00:21<00:00, 46.26it/s, r=-529.74, s=0.00]\n"
     ]
    },
    {
     "name": "stdout",
     "output_type": "stream",
     "text": [
      "runs/20241226_164738-train_sac_rew_tr_w3_image_imagenet1k_p5_520804\n",
      "runs_sac/20241226_164738-train_sac_rew_tr_w3_image_imagenet1k_p5_520804\n",
      "Loading checkpoint from runs_sac/20241226_164738-train_sac_rew_tr_w3_image_imagenet1k_p5_520804/checkpoint_3046848.pth\n"
     ]
    },
    {
     "name": "stderr",
     "output_type": "stream",
     "text": [
      "Eval steps: 100%|██████████| 1000/1000 [00:21<00:00, 45.91it/s, r=-494.22, s=0.00]\n"
     ]
    },
    {
     "name": "stdout",
     "output_type": "stream",
     "text": [
      "runs/20250105_200851-train_sac_rew_tr_w3_image_imagenet1k_p5_726122\n",
      "Loading checkpoint from runs/20250105_200851-train_sac_rew_tr_w3_image_imagenet1k_p5_726122/checkpoint_2156992.pth\n"
     ]
    },
    {
     "name": "stderr",
     "output_type": "stream",
     "text": [
      "Eval steps: 100%|██████████| 1000/1000 [00:21<00:00, 45.84it/s, r=-534.63, s=0.00]\n"
     ]
    },
    {
     "name": "stdout",
     "output_type": "stream",
     "text": [
      "runs/20250106_114535-train_sac_rew_tr_w3_image_imagenet1k_p5_696518\n",
      "runs_sac/20250106_114535-train_sac_rew_tr_w3_image_imagenet1k_p5_696518\n",
      "Loading checkpoint from runs_sac/20250106_114535-train_sac_rew_tr_w3_image_imagenet1k_p5_696518/checkpoint_2599232.pth\n"
     ]
    },
    {
     "name": "stderr",
     "output_type": "stream",
     "text": [
      "Eval steps: 100%|██████████| 1000/1000 [00:21<00:00, 45.81it/s, r=-515.75, s=0.00]\n"
     ]
    },
    {
     "name": "stdout",
     "output_type": "stream",
     "text": [
      "runs/20241225_020152-train_sac_rew_tr_w3_image_imagenet1k_p10_39648\n",
      "runs_sac/20241225_020152-train_sac_rew_tr_w3_image_imagenet1k_p10_39648\n",
      "Loading checkpoint from runs_sac/20241225_020152-train_sac_rew_tr_w3_image_imagenet1k_p10_39648/checkpoint_9000000.pth\n"
     ]
    },
    {
     "name": "stderr",
     "output_type": "stream",
     "text": [
      "Eval steps: 100%|██████████| 1000/1000 [00:21<00:00, 46.25it/s, r=-545.16, s=0.00]\n"
     ]
    },
    {
     "name": "stdout",
     "output_type": "stream",
     "text": [
      "runs/20241225_074149-train_sac_rew_tr_w3_image_imagenet1k_p10_164702\n",
      "runs_sac/20241225_074149-train_sac_rew_tr_w3_image_imagenet1k_p10_164702\n",
      "Loading checkpoint from runs_sac/20241225_074149-train_sac_rew_tr_w3_image_imagenet1k_p10_164702/checkpoint_9000000.pth\n"
     ]
    },
    {
     "name": "stderr",
     "output_type": "stream",
     "text": [
      "Eval steps: 100%|██████████| 1000/1000 [00:21<00:00, 45.89it/s, r=-531.19, s=0.00]\n"
     ]
    },
    {
     "name": "stdout",
     "output_type": "stream",
     "text": [
      "runs/20241225_105232-train_sac_rew_tr_w3_image_imagenet1k_p10_682655\n",
      "runs_sac/20241225_105232-train_sac_rew_tr_w3_image_imagenet1k_p10_682655\n",
      "Loading checkpoint from runs_sac/20241225_105232-train_sac_rew_tr_w3_image_imagenet1k_p10_682655/checkpoint_9000000.pth\n"
     ]
    },
    {
     "name": "stderr",
     "output_type": "stream",
     "text": [
      "Eval steps: 100%|██████████| 1000/1000 [00:21<00:00, 45.96it/s, r=-529.40, s=0.00]\n"
     ]
    },
    {
     "name": "stdout",
     "output_type": "stream",
     "text": [
      "runs/20250106_225900-train_sac_rew_tr_w3_image_imagenet1k_p10_562892\n",
      "Loading checkpoint from runs/20250106_225900-train_sac_rew_tr_w3_image_imagenet1k_p10_562892/checkpoint_10000000.pth\n"
     ]
    },
    {
     "name": "stderr",
     "output_type": "stream",
     "text": [
      "Eval steps: 100%|██████████| 1000/1000 [00:21<00:00, 45.82it/s, r=-497.88, s=0.01]\n"
     ]
    },
    {
     "name": "stdout",
     "output_type": "stream",
     "text": [
      "runs/20250108_031153-train_sac_rew_tr_w3_image_imagenet1k_p10_836691\n",
      "runs_sac/20250108_031153-train_sac_rew_tr_w3_image_imagenet1k_p10_836691\n",
      "Loading checkpoint from runs_sac/20250108_031153-train_sac_rew_tr_w3_image_imagenet1k_p10_836691/checkpoint_10000000.pth\n"
     ]
    },
    {
     "name": "stderr",
     "output_type": "stream",
     "text": [
      "Eval steps: 100%|██████████| 1000/1000 [00:21<00:00, 45.83it/s, r=-525.82, s=0.00]\n"
     ]
    },
    {
     "name": "stdout",
     "output_type": "stream",
     "text": [
      "runs/20241224_093812-train_sac_rew_tr_w3_image_imagenet1k_p20_125861\n",
      "runs_sac/20241224_093812-train_sac_rew_tr_w3_image_imagenet1k_p20_125861\n",
      "Loading checkpoint from runs_sac/20241224_093812-train_sac_rew_tr_w3_image_imagenet1k_p20_125861/checkpoint_9000000.pth\n"
     ]
    },
    {
     "name": "stderr",
     "output_type": "stream",
     "text": [
      "Eval steps: 100%|██████████| 1000/1000 [00:21<00:00, 45.91it/s, r=-527.07, s=0.00]\n"
     ]
    }
   ],
   "source": [
    "results = {}\n",
    "for algorithm in runs:\n",
    "    if \"ppo\" in algorithm.lower():\n",
    "        continue\n",
    "    results[algorithm] = {}\n",
    "    for pool_size in runs[algorithm]:\n",
    "        results[algorithm][pool_size] = {}\n",
    "        for run_name in runs[algorithm][pool_size]:\n",
    "            for folder in ['runs', 'runs_sac', 'runs_spgym', 'runs_paper', 'runs_old', 'runs_murilo']:\n",
    "                run_path = os.path.join(folder, run_name)\n",
    "                print(run_path)\n",
    "                try:\n",
    "                    args = Args(yaml.load(open(run_path + \"/config.yaml\", \"r\"), Loader=yaml.FullLoader))\n",
    "                    break\n",
    "                except FileNotFoundError:\n",
    "                    continue\n",
    "            else:\n",
    "                raise FileNotFoundError(f\"Could not find config.yaml for {run_name}\")\n",
    "\n",
    "            actor = load_run(run_path, envs)\n",
    "\n",
    "            # id_envs = gym.vector.SyncVectorEnv([e.make(\"SlidingPuzzles-v0\", i, False, \"\", args.env_configs) for i in range(args.num_envs)])\n",
    "            returns, lengths, successes, episodes = u.evaluate(actor, envs)\n",
    "            results[algorithm][pool_size][run_name] = {\n",
    "                \"successes\": successes,\n",
    "                \"episodes\": episodes,\n",
    "                \"returns\": returns,\n",
    "                \"lengths\": lengths\n",
    "            }\n",
    "\n",
    "            # Save results to pickle file\n",
    "            with open('ood_eval_results_100_sac.pkl', 'wb') as f:\n",
    "                pickle.dump(results, f)"
   ]
  }
 ],
 "metadata": {
  "kernelspec": {
   "display_name": "cleanrl",
   "language": "python",
   "name": "python3"
  },
  "language_info": {
   "codemirror_mode": {
    "name": "ipython",
    "version": 3
   },
   "file_extension": ".py",
   "mimetype": "text/x-python",
   "name": "python",
   "nbconvert_exporter": "python",
   "pygments_lexer": "ipython3",
   "version": "3.9.20"
  }
 },
 "nbformat": 4,
 "nbformat_minor": 2
}
